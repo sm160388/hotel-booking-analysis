{
  "nbformat": 4,
  "nbformat_minor": 0,
  "metadata": {
    "kernelspec": {
      "display_name": "Python 3",
      "language": "python",
      "name": "python3"
    },
    "language_info": {
      "codemirror_mode": {
        "name": "ipython",
        "version": 3
      },
      "file_extension": ".py",
      "mimetype": "text/x-python",
      "name": "python",
      "nbconvert_exporter": "python",
      "pygments_lexer": "ipython3",
      "version": "3.6.6"
    },
    "colab": {
      "name": "Copy of Copy of Copy of Hotel Booking Analysis - Capstone Project.ipynb",
      "provenance": [],
      "include_colab_link": true
    }
  },
  "cells": [
    {
      "cell_type": "markdown",
      "metadata": {
        "id": "view-in-github",
        "colab_type": "text"
      },
      "source": [
        "<a href=\"https://colab.research.google.com/github/sm160388/hotel-booking-analysis/blob/main/Copy_of_Copy_of_Copy_of_Hotel_Booking_Analysis_Capstone_Project.ipynb\" target=\"_parent\"><img src=\"https://colab.research.google.com/assets/colab-badge.svg\" alt=\"Open In Colab\"/></a>"
      ]
    },
    {
      "cell_type": "markdown",
      "metadata": {
        "id": "Y06xIdG26kRF"
      },
      "source": [
        "## <b> Have you ever wondered when the best time of year to book a hotel room is? Or the optimal length of stay in order to get the best daily rate? What if you wanted to predict whether or not a hotel was likely to receive a disproportionately high number of special requests? This hotel booking dataset can help you explore those questions!\n",
        "\n",
        "## <b>This data set contains booking information for a city hotel and a resort hotel, and includes information such as when the booking was made, length of stay, the number of adults, children, and/or babies, and the number of available parking spaces, among other things. All personally identifying information has been removed from the data. </b>\n",
        "\n",
        "## <b> Explore and analyze the data to discover important factors that govern the bookings. </b>"
      ]
    },
    {
      "cell_type": "markdown",
      "source": [
        "#**Data Collection**"
      ],
      "metadata": {
        "id": "5Rm6HPYSLTGT"
      }
    },
    {
      "cell_type": "code",
      "source": [
        "# importing important libraries\n",
        "import pandas as pd\n",
        "import numpy as np\n",
        "import datetime\n",
        "from time import strftime\n",
        "import matplotlib.pyplot as plt             #visualisation\n",
        "%matplotlib inline\n",
        "import seaborn as sns                       #visualisation\n",
        "import plotly.express as px\n",
        "import folium\n",
        "sns.set(color_codes=True)                   #default colours are used"
      ],
      "metadata": {
        "id": "2DY0ZzS1aGad"
      },
      "execution_count": null,
      "outputs": []
    },
    {
      "cell_type": "markdown",
      "source": [
        "Mount the data\n"
      ],
      "metadata": {
        "id": "JoExliIxayq0"
      }
    },
    {
      "cell_type": "code",
      "source": [
        "from google.colab import drive\n",
        "drive.mount('/content/drive')"
      ],
      "metadata": {
        "colab": {
          "base_uri": "https://localhost:8080/"
        },
        "id": "6mQW5aaSa9t0",
        "outputId": "75a43b91-43bd-4752-d9ef-92020b7082b3"
      },
      "execution_count": null,
      "outputs": [
        {
          "output_type": "stream",
          "name": "stdout",
          "text": [
            "Mounted at /content/drive\n"
          ]
        }
      ]
    },
    {
      "cell_type": "code",
      "source": [
        "data=pd.read_csv('/content/drive/MyDrive/Copy of Hotel Bookings.csv')"
      ],
      "metadata": {
        "id": "yj8cjNu7bH2L"
      },
      "execution_count": null,
      "outputs": []
    },
    {
      "cell_type": "markdown",
      "source": [
        "**Let** **us read our data first**"
      ],
      "metadata": {
        "id": "t45PqIAKbP2a"
      }
    },
    {
      "cell_type": "code",
      "source": [
        "data"
      ],
      "metadata": {
        "colab": {
          "base_uri": "https://localhost:8080/",
          "height": 661
        },
        "id": "yCraLannbVj6",
        "outputId": "b43f933e-0bc2-4889-cd0b-91f6800cc7a3"
      },
      "execution_count": null,
      "outputs": [
        {
          "output_type": "execute_result",
          "data": {
            "text/plain": [
              "               hotel  is_canceled  lead_time  arrival_date_year  \\\n",
              "0       Resort Hotel            0        342               2015   \n",
              "1       Resort Hotel            0        737               2015   \n",
              "2       Resort Hotel            0          7               2015   \n",
              "3       Resort Hotel            0         13               2015   \n",
              "4       Resort Hotel            0         14               2015   \n",
              "...              ...          ...        ...                ...   \n",
              "119385    City Hotel            0         23               2017   \n",
              "119386    City Hotel            0        102               2017   \n",
              "119387    City Hotel            0         34               2017   \n",
              "119388    City Hotel            0        109               2017   \n",
              "119389    City Hotel            0        205               2017   \n",
              "\n",
              "       arrival_date_month  arrival_date_week_number  \\\n",
              "0                    July                        27   \n",
              "1                    July                        27   \n",
              "2                    July                        27   \n",
              "3                    July                        27   \n",
              "4                    July                        27   \n",
              "...                   ...                       ...   \n",
              "119385             August                        35   \n",
              "119386             August                        35   \n",
              "119387             August                        35   \n",
              "119388             August                        35   \n",
              "119389             August                        35   \n",
              "\n",
              "        arrival_date_day_of_month  stays_in_weekend_nights  \\\n",
              "0                               1                        0   \n",
              "1                               1                        0   \n",
              "2                               1                        0   \n",
              "3                               1                        0   \n",
              "4                               1                        0   \n",
              "...                           ...                      ...   \n",
              "119385                         30                        2   \n",
              "119386                         31                        2   \n",
              "119387                         31                        2   \n",
              "119388                         31                        2   \n",
              "119389                         29                        2   \n",
              "\n",
              "        stays_in_week_nights  adults  ...  deposit_type  agent company  \\\n",
              "0                          0       2  ...    No Deposit    NaN     NaN   \n",
              "1                          0       2  ...    No Deposit    NaN     NaN   \n",
              "2                          1       1  ...    No Deposit    NaN     NaN   \n",
              "3                          1       1  ...    No Deposit  304.0     NaN   \n",
              "4                          2       2  ...    No Deposit  240.0     NaN   \n",
              "...                      ...     ...  ...           ...    ...     ...   \n",
              "119385                     5       2  ...    No Deposit  394.0     NaN   \n",
              "119386                     5       3  ...    No Deposit    9.0     NaN   \n",
              "119387                     5       2  ...    No Deposit    9.0     NaN   \n",
              "119388                     5       2  ...    No Deposit   89.0     NaN   \n",
              "119389                     7       2  ...    No Deposit    9.0     NaN   \n",
              "\n",
              "       days_in_waiting_list customer_type     adr  \\\n",
              "0                         0     Transient    0.00   \n",
              "1                         0     Transient    0.00   \n",
              "2                         0     Transient   75.00   \n",
              "3                         0     Transient   75.00   \n",
              "4                         0     Transient   98.00   \n",
              "...                     ...           ...     ...   \n",
              "119385                    0     Transient   96.14   \n",
              "119386                    0     Transient  225.43   \n",
              "119387                    0     Transient  157.71   \n",
              "119388                    0     Transient  104.40   \n",
              "119389                    0     Transient  151.20   \n",
              "\n",
              "        required_car_parking_spaces  total_of_special_requests  \\\n",
              "0                                 0                          0   \n",
              "1                                 0                          0   \n",
              "2                                 0                          0   \n",
              "3                                 0                          0   \n",
              "4                                 0                          1   \n",
              "...                             ...                        ...   \n",
              "119385                            0                          0   \n",
              "119386                            0                          2   \n",
              "119387                            0                          4   \n",
              "119388                            0                          0   \n",
              "119389                            0                          2   \n",
              "\n",
              "        reservation_status reservation_status_date  \n",
              "0                Check-Out              2015-07-01  \n",
              "1                Check-Out              2015-07-01  \n",
              "2                Check-Out              2015-07-02  \n",
              "3                Check-Out              2015-07-02  \n",
              "4                Check-Out              2015-07-03  \n",
              "...                    ...                     ...  \n",
              "119385           Check-Out              2017-09-06  \n",
              "119386           Check-Out              2017-09-07  \n",
              "119387           Check-Out              2017-09-07  \n",
              "119388           Check-Out              2017-09-07  \n",
              "119389           Check-Out              2017-09-07  \n",
              "\n",
              "[119390 rows x 32 columns]"
            ],
            "text/html": [
              "\n",
              "  <div id=\"df-04fb6b98-e550-4c5a-9743-3a435e8b9d60\">\n",
              "    <div class=\"colab-df-container\">\n",
              "      <div>\n",
              "<style scoped>\n",
              "    .dataframe tbody tr th:only-of-type {\n",
              "        vertical-align: middle;\n",
              "    }\n",
              "\n",
              "    .dataframe tbody tr th {\n",
              "        vertical-align: top;\n",
              "    }\n",
              "\n",
              "    .dataframe thead th {\n",
              "        text-align: right;\n",
              "    }\n",
              "</style>\n",
              "<table border=\"1\" class=\"dataframe\">\n",
              "  <thead>\n",
              "    <tr style=\"text-align: right;\">\n",
              "      <th></th>\n",
              "      <th>hotel</th>\n",
              "      <th>is_canceled</th>\n",
              "      <th>lead_time</th>\n",
              "      <th>arrival_date_year</th>\n",
              "      <th>arrival_date_month</th>\n",
              "      <th>arrival_date_week_number</th>\n",
              "      <th>arrival_date_day_of_month</th>\n",
              "      <th>stays_in_weekend_nights</th>\n",
              "      <th>stays_in_week_nights</th>\n",
              "      <th>adults</th>\n",
              "      <th>...</th>\n",
              "      <th>deposit_type</th>\n",
              "      <th>agent</th>\n",
              "      <th>company</th>\n",
              "      <th>days_in_waiting_list</th>\n",
              "      <th>customer_type</th>\n",
              "      <th>adr</th>\n",
              "      <th>required_car_parking_spaces</th>\n",
              "      <th>total_of_special_requests</th>\n",
              "      <th>reservation_status</th>\n",
              "      <th>reservation_status_date</th>\n",
              "    </tr>\n",
              "  </thead>\n",
              "  <tbody>\n",
              "    <tr>\n",
              "      <th>0</th>\n",
              "      <td>Resort Hotel</td>\n",
              "      <td>0</td>\n",
              "      <td>342</td>\n",
              "      <td>2015</td>\n",
              "      <td>July</td>\n",
              "      <td>27</td>\n",
              "      <td>1</td>\n",
              "      <td>0</td>\n",
              "      <td>0</td>\n",
              "      <td>2</td>\n",
              "      <td>...</td>\n",
              "      <td>No Deposit</td>\n",
              "      <td>NaN</td>\n",
              "      <td>NaN</td>\n",
              "      <td>0</td>\n",
              "      <td>Transient</td>\n",
              "      <td>0.00</td>\n",
              "      <td>0</td>\n",
              "      <td>0</td>\n",
              "      <td>Check-Out</td>\n",
              "      <td>2015-07-01</td>\n",
              "    </tr>\n",
              "    <tr>\n",
              "      <th>1</th>\n",
              "      <td>Resort Hotel</td>\n",
              "      <td>0</td>\n",
              "      <td>737</td>\n",
              "      <td>2015</td>\n",
              "      <td>July</td>\n",
              "      <td>27</td>\n",
              "      <td>1</td>\n",
              "      <td>0</td>\n",
              "      <td>0</td>\n",
              "      <td>2</td>\n",
              "      <td>...</td>\n",
              "      <td>No Deposit</td>\n",
              "      <td>NaN</td>\n",
              "      <td>NaN</td>\n",
              "      <td>0</td>\n",
              "      <td>Transient</td>\n",
              "      <td>0.00</td>\n",
              "      <td>0</td>\n",
              "      <td>0</td>\n",
              "      <td>Check-Out</td>\n",
              "      <td>2015-07-01</td>\n",
              "    </tr>\n",
              "    <tr>\n",
              "      <th>2</th>\n",
              "      <td>Resort Hotel</td>\n",
              "      <td>0</td>\n",
              "      <td>7</td>\n",
              "      <td>2015</td>\n",
              "      <td>July</td>\n",
              "      <td>27</td>\n",
              "      <td>1</td>\n",
              "      <td>0</td>\n",
              "      <td>1</td>\n",
              "      <td>1</td>\n",
              "      <td>...</td>\n",
              "      <td>No Deposit</td>\n",
              "      <td>NaN</td>\n",
              "      <td>NaN</td>\n",
              "      <td>0</td>\n",
              "      <td>Transient</td>\n",
              "      <td>75.00</td>\n",
              "      <td>0</td>\n",
              "      <td>0</td>\n",
              "      <td>Check-Out</td>\n",
              "      <td>2015-07-02</td>\n",
              "    </tr>\n",
              "    <tr>\n",
              "      <th>3</th>\n",
              "      <td>Resort Hotel</td>\n",
              "      <td>0</td>\n",
              "      <td>13</td>\n",
              "      <td>2015</td>\n",
              "      <td>July</td>\n",
              "      <td>27</td>\n",
              "      <td>1</td>\n",
              "      <td>0</td>\n",
              "      <td>1</td>\n",
              "      <td>1</td>\n",
              "      <td>...</td>\n",
              "      <td>No Deposit</td>\n",
              "      <td>304.0</td>\n",
              "      <td>NaN</td>\n",
              "      <td>0</td>\n",
              "      <td>Transient</td>\n",
              "      <td>75.00</td>\n",
              "      <td>0</td>\n",
              "      <td>0</td>\n",
              "      <td>Check-Out</td>\n",
              "      <td>2015-07-02</td>\n",
              "    </tr>\n",
              "    <tr>\n",
              "      <th>4</th>\n",
              "      <td>Resort Hotel</td>\n",
              "      <td>0</td>\n",
              "      <td>14</td>\n",
              "      <td>2015</td>\n",
              "      <td>July</td>\n",
              "      <td>27</td>\n",
              "      <td>1</td>\n",
              "      <td>0</td>\n",
              "      <td>2</td>\n",
              "      <td>2</td>\n",
              "      <td>...</td>\n",
              "      <td>No Deposit</td>\n",
              "      <td>240.0</td>\n",
              "      <td>NaN</td>\n",
              "      <td>0</td>\n",
              "      <td>Transient</td>\n",
              "      <td>98.00</td>\n",
              "      <td>0</td>\n",
              "      <td>1</td>\n",
              "      <td>Check-Out</td>\n",
              "      <td>2015-07-03</td>\n",
              "    </tr>\n",
              "    <tr>\n",
              "      <th>...</th>\n",
              "      <td>...</td>\n",
              "      <td>...</td>\n",
              "      <td>...</td>\n",
              "      <td>...</td>\n",
              "      <td>...</td>\n",
              "      <td>...</td>\n",
              "      <td>...</td>\n",
              "      <td>...</td>\n",
              "      <td>...</td>\n",
              "      <td>...</td>\n",
              "      <td>...</td>\n",
              "      <td>...</td>\n",
              "      <td>...</td>\n",
              "      <td>...</td>\n",
              "      <td>...</td>\n",
              "      <td>...</td>\n",
              "      <td>...</td>\n",
              "      <td>...</td>\n",
              "      <td>...</td>\n",
              "      <td>...</td>\n",
              "      <td>...</td>\n",
              "    </tr>\n",
              "    <tr>\n",
              "      <th>119385</th>\n",
              "      <td>City Hotel</td>\n",
              "      <td>0</td>\n",
              "      <td>23</td>\n",
              "      <td>2017</td>\n",
              "      <td>August</td>\n",
              "      <td>35</td>\n",
              "      <td>30</td>\n",
              "      <td>2</td>\n",
              "      <td>5</td>\n",
              "      <td>2</td>\n",
              "      <td>...</td>\n",
              "      <td>No Deposit</td>\n",
              "      <td>394.0</td>\n",
              "      <td>NaN</td>\n",
              "      <td>0</td>\n",
              "      <td>Transient</td>\n",
              "      <td>96.14</td>\n",
              "      <td>0</td>\n",
              "      <td>0</td>\n",
              "      <td>Check-Out</td>\n",
              "      <td>2017-09-06</td>\n",
              "    </tr>\n",
              "    <tr>\n",
              "      <th>119386</th>\n",
              "      <td>City Hotel</td>\n",
              "      <td>0</td>\n",
              "      <td>102</td>\n",
              "      <td>2017</td>\n",
              "      <td>August</td>\n",
              "      <td>35</td>\n",
              "      <td>31</td>\n",
              "      <td>2</td>\n",
              "      <td>5</td>\n",
              "      <td>3</td>\n",
              "      <td>...</td>\n",
              "      <td>No Deposit</td>\n",
              "      <td>9.0</td>\n",
              "      <td>NaN</td>\n",
              "      <td>0</td>\n",
              "      <td>Transient</td>\n",
              "      <td>225.43</td>\n",
              "      <td>0</td>\n",
              "      <td>2</td>\n",
              "      <td>Check-Out</td>\n",
              "      <td>2017-09-07</td>\n",
              "    </tr>\n",
              "    <tr>\n",
              "      <th>119387</th>\n",
              "      <td>City Hotel</td>\n",
              "      <td>0</td>\n",
              "      <td>34</td>\n",
              "      <td>2017</td>\n",
              "      <td>August</td>\n",
              "      <td>35</td>\n",
              "      <td>31</td>\n",
              "      <td>2</td>\n",
              "      <td>5</td>\n",
              "      <td>2</td>\n",
              "      <td>...</td>\n",
              "      <td>No Deposit</td>\n",
              "      <td>9.0</td>\n",
              "      <td>NaN</td>\n",
              "      <td>0</td>\n",
              "      <td>Transient</td>\n",
              "      <td>157.71</td>\n",
              "      <td>0</td>\n",
              "      <td>4</td>\n",
              "      <td>Check-Out</td>\n",
              "      <td>2017-09-07</td>\n",
              "    </tr>\n",
              "    <tr>\n",
              "      <th>119388</th>\n",
              "      <td>City Hotel</td>\n",
              "      <td>0</td>\n",
              "      <td>109</td>\n",
              "      <td>2017</td>\n",
              "      <td>August</td>\n",
              "      <td>35</td>\n",
              "      <td>31</td>\n",
              "      <td>2</td>\n",
              "      <td>5</td>\n",
              "      <td>2</td>\n",
              "      <td>...</td>\n",
              "      <td>No Deposit</td>\n",
              "      <td>89.0</td>\n",
              "      <td>NaN</td>\n",
              "      <td>0</td>\n",
              "      <td>Transient</td>\n",
              "      <td>104.40</td>\n",
              "      <td>0</td>\n",
              "      <td>0</td>\n",
              "      <td>Check-Out</td>\n",
              "      <td>2017-09-07</td>\n",
              "    </tr>\n",
              "    <tr>\n",
              "      <th>119389</th>\n",
              "      <td>City Hotel</td>\n",
              "      <td>0</td>\n",
              "      <td>205</td>\n",
              "      <td>2017</td>\n",
              "      <td>August</td>\n",
              "      <td>35</td>\n",
              "      <td>29</td>\n",
              "      <td>2</td>\n",
              "      <td>7</td>\n",
              "      <td>2</td>\n",
              "      <td>...</td>\n",
              "      <td>No Deposit</td>\n",
              "      <td>9.0</td>\n",
              "      <td>NaN</td>\n",
              "      <td>0</td>\n",
              "      <td>Transient</td>\n",
              "      <td>151.20</td>\n",
              "      <td>0</td>\n",
              "      <td>2</td>\n",
              "      <td>Check-Out</td>\n",
              "      <td>2017-09-07</td>\n",
              "    </tr>\n",
              "  </tbody>\n",
              "</table>\n",
              "<p>119390 rows × 32 columns</p>\n",
              "</div>\n",
              "      <button class=\"colab-df-convert\" onclick=\"convertToInteractive('df-04fb6b98-e550-4c5a-9743-3a435e8b9d60')\"\n",
              "              title=\"Convert this dataframe to an interactive table.\"\n",
              "              style=\"display:none;\">\n",
              "        \n",
              "  <svg xmlns=\"http://www.w3.org/2000/svg\" height=\"24px\"viewBox=\"0 0 24 24\"\n",
              "       width=\"24px\">\n",
              "    <path d=\"M0 0h24v24H0V0z\" fill=\"none\"/>\n",
              "    <path d=\"M18.56 5.44l.94 2.06.94-2.06 2.06-.94-2.06-.94-.94-2.06-.94 2.06-2.06.94zm-11 1L8.5 8.5l.94-2.06 2.06-.94-2.06-.94L8.5 2.5l-.94 2.06-2.06.94zm10 10l.94 2.06.94-2.06 2.06-.94-2.06-.94-.94-2.06-.94 2.06-2.06.94z\"/><path d=\"M17.41 7.96l-1.37-1.37c-.4-.4-.92-.59-1.43-.59-.52 0-1.04.2-1.43.59L10.3 9.45l-7.72 7.72c-.78.78-.78 2.05 0 2.83L4 21.41c.39.39.9.59 1.41.59.51 0 1.02-.2 1.41-.59l7.78-7.78 2.81-2.81c.8-.78.8-2.07 0-2.86zM5.41 20L4 18.59l7.72-7.72 1.47 1.35L5.41 20z\"/>\n",
              "  </svg>\n",
              "      </button>\n",
              "      \n",
              "  <style>\n",
              "    .colab-df-container {\n",
              "      display:flex;\n",
              "      flex-wrap:wrap;\n",
              "      gap: 12px;\n",
              "    }\n",
              "\n",
              "    .colab-df-convert {\n",
              "      background-color: #E8F0FE;\n",
              "      border: none;\n",
              "      border-radius: 50%;\n",
              "      cursor: pointer;\n",
              "      display: none;\n",
              "      fill: #1967D2;\n",
              "      height: 32px;\n",
              "      padding: 0 0 0 0;\n",
              "      width: 32px;\n",
              "    }\n",
              "\n",
              "    .colab-df-convert:hover {\n",
              "      background-color: #E2EBFA;\n",
              "      box-shadow: 0px 1px 2px rgba(60, 64, 67, 0.3), 0px 1px 3px 1px rgba(60, 64, 67, 0.15);\n",
              "      fill: #174EA6;\n",
              "    }\n",
              "\n",
              "    [theme=dark] .colab-df-convert {\n",
              "      background-color: #3B4455;\n",
              "      fill: #D2E3FC;\n",
              "    }\n",
              "\n",
              "    [theme=dark] .colab-df-convert:hover {\n",
              "      background-color: #434B5C;\n",
              "      box-shadow: 0px 1px 3px 1px rgba(0, 0, 0, 0.15);\n",
              "      filter: drop-shadow(0px 1px 2px rgba(0, 0, 0, 0.3));\n",
              "      fill: #FFFFFF;\n",
              "    }\n",
              "  </style>\n",
              "\n",
              "      <script>\n",
              "        const buttonEl =\n",
              "          document.querySelector('#df-04fb6b98-e550-4c5a-9743-3a435e8b9d60 button.colab-df-convert');\n",
              "        buttonEl.style.display =\n",
              "          google.colab.kernel.accessAllowed ? 'block' : 'none';\n",
              "\n",
              "        async function convertToInteractive(key) {\n",
              "          const element = document.querySelector('#df-04fb6b98-e550-4c5a-9743-3a435e8b9d60');\n",
              "          const dataTable =\n",
              "            await google.colab.kernel.invokeFunction('convertToInteractive',\n",
              "                                                     [key], {});\n",
              "          if (!dataTable) return;\n",
              "\n",
              "          const docLinkHtml = 'Like what you see? Visit the ' +\n",
              "            '<a target=\"_blank\" href=https://colab.research.google.com/notebooks/data_table.ipynb>data table notebook</a>'\n",
              "            + ' to learn more about interactive tables.';\n",
              "          element.innerHTML = '';\n",
              "          dataTable['output_type'] = 'display_data';\n",
              "          await google.colab.output.renderOutput(dataTable, element);\n",
              "          const docLink = document.createElement('div');\n",
              "          docLink.innerHTML = docLinkHtml;\n",
              "          element.appendChild(docLink);\n",
              "        }\n",
              "      </script>\n",
              "    </div>\n",
              "  </div>\n",
              "  "
            ]
          },
          "metadata": {},
          "execution_count": 5
        }
      ]
    },
    {
      "cell_type": "code",
      "source": [
        "data.shape"
      ],
      "metadata": {
        "colab": {
          "base_uri": "https://localhost:8080/"
        },
        "id": "Et1_3zCnbbnH",
        "outputId": "609d7a47-47df-4445-f12d-4d1ec0127411"
      },
      "execution_count": null,
      "outputs": [
        {
          "output_type": "execute_result",
          "data": {
            "text/plain": [
              "(119390, 32)"
            ]
          },
          "metadata": {},
          "execution_count": 6
        }
      ]
    },
    {
      "cell_type": "code",
      "source": [
        "#List of columns\n",
        "list(data.columns)"
      ],
      "metadata": {
        "colab": {
          "base_uri": "https://localhost:8080/"
        },
        "id": "Vrg_jgUWnvNV",
        "outputId": "b6814992-4e56-4bdc-dd18-6fcc239f060e"
      },
      "execution_count": null,
      "outputs": [
        {
          "output_type": "execute_result",
          "data": {
            "text/plain": [
              "['hotel',\n",
              " 'is_canceled',\n",
              " 'lead_time',\n",
              " 'arrival_date_year',\n",
              " 'arrival_date_month',\n",
              " 'arrival_date_week_number',\n",
              " 'arrival_date_day_of_month',\n",
              " 'stays_in_weekend_nights',\n",
              " 'stays_in_week_nights',\n",
              " 'adults',\n",
              " 'children',\n",
              " 'babies',\n",
              " 'meal',\n",
              " 'country',\n",
              " 'market_segment',\n",
              " 'distribution_channel',\n",
              " 'is_repeated_guest',\n",
              " 'previous_cancellations',\n",
              " 'previous_bookings_not_canceled',\n",
              " 'reserved_room_type',\n",
              " 'assigned_room_type',\n",
              " 'booking_changes',\n",
              " 'deposit_type',\n",
              " 'agent',\n",
              " 'company',\n",
              " 'days_in_waiting_list',\n",
              " 'customer_type',\n",
              " 'adr',\n",
              " 'required_car_parking_spaces',\n",
              " 'total_of_special_requests',\n",
              " 'reservation_status',\n",
              " 'reservation_status_date']"
            ]
          },
          "metadata": {},
          "execution_count": 7
        }
      ]
    },
    {
      "cell_type": "code",
      "source": [
        "#To rename the column names\n",
        "data.rename(columns={'hotel':'Hotel','is_canceled':'Cancelled','lead_time':'Lead time','arrival_date_year':'Arrival date year','arrival_date_month':'Arrival date month','arrival_date_week_number':'Arrival date week number','arrival_date_day_of_month':'Arrival date day of month','stays_in_weekend_nights':'Stays in weekend nights','stays_in_week_nights':'Stays in week nights','adults':'Adults','children':'Children','babies':'Babies','meal':'Meal','country':'Country','market_segment':'Market segment','distribution_channel':'Distribution channel','is_repeated_guest':'Repeated guest','previous_cancellation':'Previous cancellation','previous_bookings_not_cancelled':'Previous bookings not cancelled','reserved_room_type':'Reserved room type','assigned_room_type':'Assigned room type','booking_changes':'Booking changes','deposit_typ':'Deposit type','agent':'Agent','company':'Company','days_in_waiting_list':'Days in waiting list','customer_type':'Customer type','adr':'Average daily rate','required_car_parking_spaces':'Required car parking spaces','total_of_special_requests':'Total of special requests','reservation_status':'Reservation status','reservation_status_date':'Reservation status date'},inplace=True)"
      ],
      "metadata": {
        "id": "QdY9Pe6KRUrt"
      },
      "execution_count": null,
      "outputs": []
    },
    {
      "cell_type": "code",
      "source": [
        "data"
      ],
      "metadata": {
        "colab": {
          "base_uri": "https://localhost:8080/",
          "height": 713
        },
        "id": "kVJn7yQFRbQH",
        "outputId": "cd912dee-707f-40f3-b5e0-ea8bb0320fff"
      },
      "execution_count": null,
      "outputs": [
        {
          "output_type": "execute_result",
          "data": {
            "text/plain": [
              "               Hotel  Cancelled  Lead time  Arrival date year  \\\n",
              "0       Resort Hotel          0        342               2015   \n",
              "1       Resort Hotel          0        737               2015   \n",
              "2       Resort Hotel          0          7               2015   \n",
              "3       Resort Hotel          0         13               2015   \n",
              "4       Resort Hotel          0         14               2015   \n",
              "...              ...        ...        ...                ...   \n",
              "119385    City Hotel          0         23               2017   \n",
              "119386    City Hotel          0        102               2017   \n",
              "119387    City Hotel          0         34               2017   \n",
              "119388    City Hotel          0        109               2017   \n",
              "119389    City Hotel          0        205               2017   \n",
              "\n",
              "       Arrival date month  Arrival date week number  \\\n",
              "0                    July                        27   \n",
              "1                    July                        27   \n",
              "2                    July                        27   \n",
              "3                    July                        27   \n",
              "4                    July                        27   \n",
              "...                   ...                       ...   \n",
              "119385             August                        35   \n",
              "119386             August                        35   \n",
              "119387             August                        35   \n",
              "119388             August                        35   \n",
              "119389             August                        35   \n",
              "\n",
              "        Arrival date day of month  Stays in weekend nights  \\\n",
              "0                               1                        0   \n",
              "1                               1                        0   \n",
              "2                               1                        0   \n",
              "3                               1                        0   \n",
              "4                               1                        0   \n",
              "...                           ...                      ...   \n",
              "119385                         30                        2   \n",
              "119386                         31                        2   \n",
              "119387                         31                        2   \n",
              "119388                         31                        2   \n",
              "119389                         29                        2   \n",
              "\n",
              "        Stays in week nights  Adults  ...  deposit_type  Agent Company  \\\n",
              "0                          0       2  ...    No Deposit    NaN     NaN   \n",
              "1                          0       2  ...    No Deposit    NaN     NaN   \n",
              "2                          1       1  ...    No Deposit    NaN     NaN   \n",
              "3                          1       1  ...    No Deposit  304.0     NaN   \n",
              "4                          2       2  ...    No Deposit  240.0     NaN   \n",
              "...                      ...     ...  ...           ...    ...     ...   \n",
              "119385                     5       2  ...    No Deposit  394.0     NaN   \n",
              "119386                     5       3  ...    No Deposit    9.0     NaN   \n",
              "119387                     5       2  ...    No Deposit    9.0     NaN   \n",
              "119388                     5       2  ...    No Deposit   89.0     NaN   \n",
              "119389                     7       2  ...    No Deposit    9.0     NaN   \n",
              "\n",
              "       Days in waiting list Customer type Average daily rate  \\\n",
              "0                         0     Transient               0.00   \n",
              "1                         0     Transient               0.00   \n",
              "2                         0     Transient              75.00   \n",
              "3                         0     Transient              75.00   \n",
              "4                         0     Transient              98.00   \n",
              "...                     ...           ...                ...   \n",
              "119385                    0     Transient              96.14   \n",
              "119386                    0     Transient             225.43   \n",
              "119387                    0     Transient             157.71   \n",
              "119388                    0     Transient             104.40   \n",
              "119389                    0     Transient             151.20   \n",
              "\n",
              "        Required car parking spaces  Total of special requests  \\\n",
              "0                                 0                          0   \n",
              "1                                 0                          0   \n",
              "2                                 0                          0   \n",
              "3                                 0                          0   \n",
              "4                                 0                          1   \n",
              "...                             ...                        ...   \n",
              "119385                            0                          0   \n",
              "119386                            0                          2   \n",
              "119387                            0                          4   \n",
              "119388                            0                          0   \n",
              "119389                            0                          2   \n",
              "\n",
              "        Reservation status Reservation status date  \n",
              "0                Check-Out              2015-07-01  \n",
              "1                Check-Out              2015-07-01  \n",
              "2                Check-Out              2015-07-02  \n",
              "3                Check-Out              2015-07-02  \n",
              "4                Check-Out              2015-07-03  \n",
              "...                    ...                     ...  \n",
              "119385           Check-Out              2017-09-06  \n",
              "119386           Check-Out              2017-09-07  \n",
              "119387           Check-Out              2017-09-07  \n",
              "119388           Check-Out              2017-09-07  \n",
              "119389           Check-Out              2017-09-07  \n",
              "\n",
              "[119390 rows x 32 columns]"
            ],
            "text/html": [
              "\n",
              "  <div id=\"df-2b1c32aa-8392-4669-afd8-dd224c7c4095\">\n",
              "    <div class=\"colab-df-container\">\n",
              "      <div>\n",
              "<style scoped>\n",
              "    .dataframe tbody tr th:only-of-type {\n",
              "        vertical-align: middle;\n",
              "    }\n",
              "\n",
              "    .dataframe tbody tr th {\n",
              "        vertical-align: top;\n",
              "    }\n",
              "\n",
              "    .dataframe thead th {\n",
              "        text-align: right;\n",
              "    }\n",
              "</style>\n",
              "<table border=\"1\" class=\"dataframe\">\n",
              "  <thead>\n",
              "    <tr style=\"text-align: right;\">\n",
              "      <th></th>\n",
              "      <th>Hotel</th>\n",
              "      <th>Cancelled</th>\n",
              "      <th>Lead time</th>\n",
              "      <th>Arrival date year</th>\n",
              "      <th>Arrival date month</th>\n",
              "      <th>Arrival date week number</th>\n",
              "      <th>Arrival date day of month</th>\n",
              "      <th>Stays in weekend nights</th>\n",
              "      <th>Stays in week nights</th>\n",
              "      <th>Adults</th>\n",
              "      <th>...</th>\n",
              "      <th>deposit_type</th>\n",
              "      <th>Agent</th>\n",
              "      <th>Company</th>\n",
              "      <th>Days in waiting list</th>\n",
              "      <th>Customer type</th>\n",
              "      <th>Average daily rate</th>\n",
              "      <th>Required car parking spaces</th>\n",
              "      <th>Total of special requests</th>\n",
              "      <th>Reservation status</th>\n",
              "      <th>Reservation status date</th>\n",
              "    </tr>\n",
              "  </thead>\n",
              "  <tbody>\n",
              "    <tr>\n",
              "      <th>0</th>\n",
              "      <td>Resort Hotel</td>\n",
              "      <td>0</td>\n",
              "      <td>342</td>\n",
              "      <td>2015</td>\n",
              "      <td>July</td>\n",
              "      <td>27</td>\n",
              "      <td>1</td>\n",
              "      <td>0</td>\n",
              "      <td>0</td>\n",
              "      <td>2</td>\n",
              "      <td>...</td>\n",
              "      <td>No Deposit</td>\n",
              "      <td>NaN</td>\n",
              "      <td>NaN</td>\n",
              "      <td>0</td>\n",
              "      <td>Transient</td>\n",
              "      <td>0.00</td>\n",
              "      <td>0</td>\n",
              "      <td>0</td>\n",
              "      <td>Check-Out</td>\n",
              "      <td>2015-07-01</td>\n",
              "    </tr>\n",
              "    <tr>\n",
              "      <th>1</th>\n",
              "      <td>Resort Hotel</td>\n",
              "      <td>0</td>\n",
              "      <td>737</td>\n",
              "      <td>2015</td>\n",
              "      <td>July</td>\n",
              "      <td>27</td>\n",
              "      <td>1</td>\n",
              "      <td>0</td>\n",
              "      <td>0</td>\n",
              "      <td>2</td>\n",
              "      <td>...</td>\n",
              "      <td>No Deposit</td>\n",
              "      <td>NaN</td>\n",
              "      <td>NaN</td>\n",
              "      <td>0</td>\n",
              "      <td>Transient</td>\n",
              "      <td>0.00</td>\n",
              "      <td>0</td>\n",
              "      <td>0</td>\n",
              "      <td>Check-Out</td>\n",
              "      <td>2015-07-01</td>\n",
              "    </tr>\n",
              "    <tr>\n",
              "      <th>2</th>\n",
              "      <td>Resort Hotel</td>\n",
              "      <td>0</td>\n",
              "      <td>7</td>\n",
              "      <td>2015</td>\n",
              "      <td>July</td>\n",
              "      <td>27</td>\n",
              "      <td>1</td>\n",
              "      <td>0</td>\n",
              "      <td>1</td>\n",
              "      <td>1</td>\n",
              "      <td>...</td>\n",
              "      <td>No Deposit</td>\n",
              "      <td>NaN</td>\n",
              "      <td>NaN</td>\n",
              "      <td>0</td>\n",
              "      <td>Transient</td>\n",
              "      <td>75.00</td>\n",
              "      <td>0</td>\n",
              "      <td>0</td>\n",
              "      <td>Check-Out</td>\n",
              "      <td>2015-07-02</td>\n",
              "    </tr>\n",
              "    <tr>\n",
              "      <th>3</th>\n",
              "      <td>Resort Hotel</td>\n",
              "      <td>0</td>\n",
              "      <td>13</td>\n",
              "      <td>2015</td>\n",
              "      <td>July</td>\n",
              "      <td>27</td>\n",
              "      <td>1</td>\n",
              "      <td>0</td>\n",
              "      <td>1</td>\n",
              "      <td>1</td>\n",
              "      <td>...</td>\n",
              "      <td>No Deposit</td>\n",
              "      <td>304.0</td>\n",
              "      <td>NaN</td>\n",
              "      <td>0</td>\n",
              "      <td>Transient</td>\n",
              "      <td>75.00</td>\n",
              "      <td>0</td>\n",
              "      <td>0</td>\n",
              "      <td>Check-Out</td>\n",
              "      <td>2015-07-02</td>\n",
              "    </tr>\n",
              "    <tr>\n",
              "      <th>4</th>\n",
              "      <td>Resort Hotel</td>\n",
              "      <td>0</td>\n",
              "      <td>14</td>\n",
              "      <td>2015</td>\n",
              "      <td>July</td>\n",
              "      <td>27</td>\n",
              "      <td>1</td>\n",
              "      <td>0</td>\n",
              "      <td>2</td>\n",
              "      <td>2</td>\n",
              "      <td>...</td>\n",
              "      <td>No Deposit</td>\n",
              "      <td>240.0</td>\n",
              "      <td>NaN</td>\n",
              "      <td>0</td>\n",
              "      <td>Transient</td>\n",
              "      <td>98.00</td>\n",
              "      <td>0</td>\n",
              "      <td>1</td>\n",
              "      <td>Check-Out</td>\n",
              "      <td>2015-07-03</td>\n",
              "    </tr>\n",
              "    <tr>\n",
              "      <th>...</th>\n",
              "      <td>...</td>\n",
              "      <td>...</td>\n",
              "      <td>...</td>\n",
              "      <td>...</td>\n",
              "      <td>...</td>\n",
              "      <td>...</td>\n",
              "      <td>...</td>\n",
              "      <td>...</td>\n",
              "      <td>...</td>\n",
              "      <td>...</td>\n",
              "      <td>...</td>\n",
              "      <td>...</td>\n",
              "      <td>...</td>\n",
              "      <td>...</td>\n",
              "      <td>...</td>\n",
              "      <td>...</td>\n",
              "      <td>...</td>\n",
              "      <td>...</td>\n",
              "      <td>...</td>\n",
              "      <td>...</td>\n",
              "      <td>...</td>\n",
              "    </tr>\n",
              "    <tr>\n",
              "      <th>119385</th>\n",
              "      <td>City Hotel</td>\n",
              "      <td>0</td>\n",
              "      <td>23</td>\n",
              "      <td>2017</td>\n",
              "      <td>August</td>\n",
              "      <td>35</td>\n",
              "      <td>30</td>\n",
              "      <td>2</td>\n",
              "      <td>5</td>\n",
              "      <td>2</td>\n",
              "      <td>...</td>\n",
              "      <td>No Deposit</td>\n",
              "      <td>394.0</td>\n",
              "      <td>NaN</td>\n",
              "      <td>0</td>\n",
              "      <td>Transient</td>\n",
              "      <td>96.14</td>\n",
              "      <td>0</td>\n",
              "      <td>0</td>\n",
              "      <td>Check-Out</td>\n",
              "      <td>2017-09-06</td>\n",
              "    </tr>\n",
              "    <tr>\n",
              "      <th>119386</th>\n",
              "      <td>City Hotel</td>\n",
              "      <td>0</td>\n",
              "      <td>102</td>\n",
              "      <td>2017</td>\n",
              "      <td>August</td>\n",
              "      <td>35</td>\n",
              "      <td>31</td>\n",
              "      <td>2</td>\n",
              "      <td>5</td>\n",
              "      <td>3</td>\n",
              "      <td>...</td>\n",
              "      <td>No Deposit</td>\n",
              "      <td>9.0</td>\n",
              "      <td>NaN</td>\n",
              "      <td>0</td>\n",
              "      <td>Transient</td>\n",
              "      <td>225.43</td>\n",
              "      <td>0</td>\n",
              "      <td>2</td>\n",
              "      <td>Check-Out</td>\n",
              "      <td>2017-09-07</td>\n",
              "    </tr>\n",
              "    <tr>\n",
              "      <th>119387</th>\n",
              "      <td>City Hotel</td>\n",
              "      <td>0</td>\n",
              "      <td>34</td>\n",
              "      <td>2017</td>\n",
              "      <td>August</td>\n",
              "      <td>35</td>\n",
              "      <td>31</td>\n",
              "      <td>2</td>\n",
              "      <td>5</td>\n",
              "      <td>2</td>\n",
              "      <td>...</td>\n",
              "      <td>No Deposit</td>\n",
              "      <td>9.0</td>\n",
              "      <td>NaN</td>\n",
              "      <td>0</td>\n",
              "      <td>Transient</td>\n",
              "      <td>157.71</td>\n",
              "      <td>0</td>\n",
              "      <td>4</td>\n",
              "      <td>Check-Out</td>\n",
              "      <td>2017-09-07</td>\n",
              "    </tr>\n",
              "    <tr>\n",
              "      <th>119388</th>\n",
              "      <td>City Hotel</td>\n",
              "      <td>0</td>\n",
              "      <td>109</td>\n",
              "      <td>2017</td>\n",
              "      <td>August</td>\n",
              "      <td>35</td>\n",
              "      <td>31</td>\n",
              "      <td>2</td>\n",
              "      <td>5</td>\n",
              "      <td>2</td>\n",
              "      <td>...</td>\n",
              "      <td>No Deposit</td>\n",
              "      <td>89.0</td>\n",
              "      <td>NaN</td>\n",
              "      <td>0</td>\n",
              "      <td>Transient</td>\n",
              "      <td>104.40</td>\n",
              "      <td>0</td>\n",
              "      <td>0</td>\n",
              "      <td>Check-Out</td>\n",
              "      <td>2017-09-07</td>\n",
              "    </tr>\n",
              "    <tr>\n",
              "      <th>119389</th>\n",
              "      <td>City Hotel</td>\n",
              "      <td>0</td>\n",
              "      <td>205</td>\n",
              "      <td>2017</td>\n",
              "      <td>August</td>\n",
              "      <td>35</td>\n",
              "      <td>29</td>\n",
              "      <td>2</td>\n",
              "      <td>7</td>\n",
              "      <td>2</td>\n",
              "      <td>...</td>\n",
              "      <td>No Deposit</td>\n",
              "      <td>9.0</td>\n",
              "      <td>NaN</td>\n",
              "      <td>0</td>\n",
              "      <td>Transient</td>\n",
              "      <td>151.20</td>\n",
              "      <td>0</td>\n",
              "      <td>2</td>\n",
              "      <td>Check-Out</td>\n",
              "      <td>2017-09-07</td>\n",
              "    </tr>\n",
              "  </tbody>\n",
              "</table>\n",
              "<p>119390 rows × 32 columns</p>\n",
              "</div>\n",
              "      <button class=\"colab-df-convert\" onclick=\"convertToInteractive('df-2b1c32aa-8392-4669-afd8-dd224c7c4095')\"\n",
              "              title=\"Convert this dataframe to an interactive table.\"\n",
              "              style=\"display:none;\">\n",
              "        \n",
              "  <svg xmlns=\"http://www.w3.org/2000/svg\" height=\"24px\"viewBox=\"0 0 24 24\"\n",
              "       width=\"24px\">\n",
              "    <path d=\"M0 0h24v24H0V0z\" fill=\"none\"/>\n",
              "    <path d=\"M18.56 5.44l.94 2.06.94-2.06 2.06-.94-2.06-.94-.94-2.06-.94 2.06-2.06.94zm-11 1L8.5 8.5l.94-2.06 2.06-.94-2.06-.94L8.5 2.5l-.94 2.06-2.06.94zm10 10l.94 2.06.94-2.06 2.06-.94-2.06-.94-.94-2.06-.94 2.06-2.06.94z\"/><path d=\"M17.41 7.96l-1.37-1.37c-.4-.4-.92-.59-1.43-.59-.52 0-1.04.2-1.43.59L10.3 9.45l-7.72 7.72c-.78.78-.78 2.05 0 2.83L4 21.41c.39.39.9.59 1.41.59.51 0 1.02-.2 1.41-.59l7.78-7.78 2.81-2.81c.8-.78.8-2.07 0-2.86zM5.41 20L4 18.59l7.72-7.72 1.47 1.35L5.41 20z\"/>\n",
              "  </svg>\n",
              "      </button>\n",
              "      \n",
              "  <style>\n",
              "    .colab-df-container {\n",
              "      display:flex;\n",
              "      flex-wrap:wrap;\n",
              "      gap: 12px;\n",
              "    }\n",
              "\n",
              "    .colab-df-convert {\n",
              "      background-color: #E8F0FE;\n",
              "      border: none;\n",
              "      border-radius: 50%;\n",
              "      cursor: pointer;\n",
              "      display: none;\n",
              "      fill: #1967D2;\n",
              "      height: 32px;\n",
              "      padding: 0 0 0 0;\n",
              "      width: 32px;\n",
              "    }\n",
              "\n",
              "    .colab-df-convert:hover {\n",
              "      background-color: #E2EBFA;\n",
              "      box-shadow: 0px 1px 2px rgba(60, 64, 67, 0.3), 0px 1px 3px 1px rgba(60, 64, 67, 0.15);\n",
              "      fill: #174EA6;\n",
              "    }\n",
              "\n",
              "    [theme=dark] .colab-df-convert {\n",
              "      background-color: #3B4455;\n",
              "      fill: #D2E3FC;\n",
              "    }\n",
              "\n",
              "    [theme=dark] .colab-df-convert:hover {\n",
              "      background-color: #434B5C;\n",
              "      box-shadow: 0px 1px 3px 1px rgba(0, 0, 0, 0.15);\n",
              "      filter: drop-shadow(0px 1px 2px rgba(0, 0, 0, 0.3));\n",
              "      fill: #FFFFFF;\n",
              "    }\n",
              "  </style>\n",
              "\n",
              "      <script>\n",
              "        const buttonEl =\n",
              "          document.querySelector('#df-2b1c32aa-8392-4669-afd8-dd224c7c4095 button.colab-df-convert');\n",
              "        buttonEl.style.display =\n",
              "          google.colab.kernel.accessAllowed ? 'block' : 'none';\n",
              "\n",
              "        async function convertToInteractive(key) {\n",
              "          const element = document.querySelector('#df-2b1c32aa-8392-4669-afd8-dd224c7c4095');\n",
              "          const dataTable =\n",
              "            await google.colab.kernel.invokeFunction('convertToInteractive',\n",
              "                                                     [key], {});\n",
              "          if (!dataTable) return;\n",
              "\n",
              "          const docLinkHtml = 'Like what you see? Visit the ' +\n",
              "            '<a target=\"_blank\" href=https://colab.research.google.com/notebooks/data_table.ipynb>data table notebook</a>'\n",
              "            + ' to learn more about interactive tables.';\n",
              "          element.innerHTML = '';\n",
              "          dataTable['output_type'] = 'display_data';\n",
              "          await google.colab.output.renderOutput(dataTable, element);\n",
              "          const docLink = document.createElement('div');\n",
              "          docLink.innerHTML = docLinkHtml;\n",
              "          element.appendChild(docLink);\n",
              "        }\n",
              "      </script>\n",
              "    </div>\n",
              "  </div>\n",
              "  "
            ]
          },
          "metadata": {},
          "execution_count": 9
        }
      ]
    },
    {
      "cell_type": "code",
      "source": [
        "data.dtypes"
      ],
      "metadata": {
        "colab": {
          "base_uri": "https://localhost:8080/"
        },
        "id": "Xb6jv-Q0Rqay",
        "outputId": "1d4898a3-7a53-4287-da26-35194220107e"
      },
      "execution_count": null,
      "outputs": [
        {
          "output_type": "execute_result",
          "data": {
            "text/plain": [
              "Hotel                              object\n",
              "Cancelled                           int64\n",
              "Lead time                           int64\n",
              "Arrival date year                   int64\n",
              "Arrival date month                 object\n",
              "Arrival date week number            int64\n",
              "Arrival date day of month           int64\n",
              "Stays in weekend nights             int64\n",
              "Stays in week nights                int64\n",
              "Adults                              int64\n",
              "Children                          float64\n",
              "Babies                              int64\n",
              "Meal                               object\n",
              "Country                            object\n",
              "Market segment                     object\n",
              "Distribution channel               object\n",
              "Repeated guest                      int64\n",
              "previous_cancellations              int64\n",
              "previous_bookings_not_canceled      int64\n",
              "Reserved room type                 object\n",
              "Assigned room type                 object\n",
              "Booking changes                     int64\n",
              "deposit_type                       object\n",
              "Agent                             float64\n",
              "Company                           float64\n",
              "Days in waiting list                int64\n",
              "Customer type                      object\n",
              "Average daily rate                float64\n",
              "Required car parking spaces         int64\n",
              "Total of special requests           int64\n",
              "Reservation status                 object\n",
              "Reservation status date            object\n",
              "dtype: object"
            ]
          },
          "metadata": {},
          "execution_count": 10
        }
      ]
    },
    {
      "cell_type": "code",
      "source": [
        "#Changing dtype to its correct dtype\n",
        "data['Children']=data['Children'].astype(int)"
      ],
      "metadata": {
        "id": "n8dU85QCRxcA"
      },
      "execution_count": null,
      "outputs": []
    },
    {
      "cell_type": "markdown",
      "source": [
        "**Number of bookings for various type of Hotels**"
      ],
      "metadata": {
        "id": "jPysns8vOWhm"
      }
    },
    {
      "cell_type": "code",
      "source": [
        "fig, ax= plt.subplots(figsize=(12,6))\n",
        "ax.hist(data['Hotel'])\n",
        "ax.set_xlabel('Hotel type')\n",
        "ax.set_ylabel('No. of Bookings-->')\n",
        "plt.show()"
      ],
      "metadata": {
        "colab": {
          "base_uri": "https://localhost:8080/",
          "height": 394
        },
        "id": "irZ6ten6omac",
        "outputId": "7d5754d5-d2c8-44e2-ec12-7c36d8f9a7cb"
      },
      "execution_count": null,
      "outputs": [
        {
          "output_type": "display_data",
          "data": {
            "text/plain": [
              "<Figure size 864x432 with 1 Axes>"
            ],
            "image/png": "[encoded data removed]"
          },
          "metadata": {}
        }
      ]
    },
    {
      "cell_type": "markdown",
      "source": [
        "here, we see that the resort hotels have around 40,000 of bookings & the city hotels around 80,000 of bookings in the data set initially."
      ],
      "metadata": {
        "id": "-dkSyWH7Ohl2"
      }
    },
    {
      "cell_type": "markdown",
      "source": [
        "#**Data Cleaning and** **Preparation**"
      ],
      "metadata": {
        "id": "0Rdn6CdQugnZ"
      }
    },
    {
      "cell_type": "code",
      "source": [
        "# Dropping unnecessary columns:\n",
        "data=data.drop(columns=['Arrival date week number','Company','Agent','Reservation status date'])\n",
        "data.shape\n",
        "data.head(5)"
      ],
      "metadata": {
        "colab": {
          "base_uri": "https://localhost:8080/",
          "height": 363
        },
        "id": "1gi-Eqtdvkrg",
        "outputId": "a3b9c821-cbf0-4dc5-b02a-1f7bc307299a"
      },
      "execution_count": null,
      "outputs": [
        {
          "output_type": "error",
          "ename": "KeyError",
          "evalue": "ignored",
          "traceback": [
            "\u001b[0;31m---------------------------------------------------------------------------\u001b[0m",
            "\u001b[0;31mKeyError\u001b[0m                                  Traceback (most recent call last)",
            "\u001b[0;32m<ipython-input-56-b7a603c87e7c>\u001b[0m in \u001b[0;36m<module>\u001b[0;34m()\u001b[0m\n\u001b[1;32m      1\u001b[0m \u001b[0;31m# Dropping unnecessary columns:\u001b[0m\u001b[0;34m\u001b[0m\u001b[0;34m\u001b[0m\u001b[0;34m\u001b[0m\u001b[0m\n\u001b[0;32m----> 2\u001b[0;31m \u001b[0mdata\u001b[0m\u001b[0;34m=\u001b[0m\u001b[0mdata\u001b[0m\u001b[0;34m.\u001b[0m\u001b[0mdrop\u001b[0m\u001b[0;34m(\u001b[0m\u001b[0mcolumns\u001b[0m\u001b[0;34m=\u001b[0m\u001b[0;34m[\u001b[0m\u001b[0;34m'Arrival date week number'\u001b[0m\u001b[0;34m,\u001b[0m\u001b[0;34m'Company'\u001b[0m\u001b[0;34m,\u001b[0m\u001b[0;34m'Agent'\u001b[0m\u001b[0;34m,\u001b[0m\u001b[0;34m'Reservation status date'\u001b[0m\u001b[0;34m]\u001b[0m\u001b[0;34m)\u001b[0m\u001b[0;34m\u001b[0m\u001b[0;34m\u001b[0m\u001b[0m\n\u001b[0m\u001b[1;32m      3\u001b[0m \u001b[0mdata\u001b[0m\u001b[0;34m.\u001b[0m\u001b[0mshape\u001b[0m\u001b[0;34m\u001b[0m\u001b[0;34m\u001b[0m\u001b[0m\n\u001b[1;32m      4\u001b[0m \u001b[0mdata\u001b[0m\u001b[0;34m.\u001b[0m\u001b[0mhead\u001b[0m\u001b[0;34m(\u001b[0m\u001b[0;36m5\u001b[0m\u001b[0;34m)\u001b[0m\u001b[0;34m\u001b[0m\u001b[0;34m\u001b[0m\u001b[0m\n",
            "\u001b[0;32m/usr/local/lib/python3.7/dist-packages/pandas/util/_decorators.py\u001b[0m in \u001b[0;36mwrapper\u001b[0;34m(*args, **kwargs)\u001b[0m\n\u001b[1;32m    309\u001b[0m                     \u001b[0mstacklevel\u001b[0m\u001b[0;34m=\u001b[0m\u001b[0mstacklevel\u001b[0m\u001b[0;34m,\u001b[0m\u001b[0;34m\u001b[0m\u001b[0;34m\u001b[0m\u001b[0m\n\u001b[1;32m    310\u001b[0m                 )\n\u001b[0;32m--> 311\u001b[0;31m             \u001b[0;32mreturn\u001b[0m \u001b[0mfunc\u001b[0m\u001b[0;34m(\u001b[0m\u001b[0;34m*\u001b[0m\u001b[0margs\u001b[0m\u001b[0;34m,\u001b[0m \u001b[0;34m**\u001b[0m\u001b[0mkwargs\u001b[0m\u001b[0;34m)\u001b[0m\u001b[0;34m\u001b[0m\u001b[0;34m\u001b[0m\u001b[0m\n\u001b[0m\u001b[1;32m    312\u001b[0m \u001b[0;34m\u001b[0m\u001b[0m\n\u001b[1;32m    313\u001b[0m         \u001b[0;32mreturn\u001b[0m \u001b[0mwrapper\u001b[0m\u001b[0;34m\u001b[0m\u001b[0;34m\u001b[0m\u001b[0m\n",
            "\u001b[0;32m/usr/local/lib/python3.7/dist-packages/pandas/core/frame.py\u001b[0m in \u001b[0;36mdrop\u001b[0;34m(self, labels, axis, index, columns, level, inplace, errors)\u001b[0m\n\u001b[1;32m   4911\u001b[0m             \u001b[0mlevel\u001b[0m\u001b[0;34m=\u001b[0m\u001b[0mlevel\u001b[0m\u001b[0;34m,\u001b[0m\u001b[0;34m\u001b[0m\u001b[0;34m\u001b[0m\u001b[0m\n\u001b[1;32m   4912\u001b[0m             \u001b[0minplace\u001b[0m\u001b[0;34m=\u001b[0m\u001b[0minplace\u001b[0m\u001b[0;34m,\u001b[0m\u001b[0;34m\u001b[0m\u001b[0;34m\u001b[0m\u001b[0m\n\u001b[0;32m-> 4913\u001b[0;31m             \u001b[0merrors\u001b[0m\u001b[0;34m=\u001b[0m\u001b[0merrors\u001b[0m\u001b[0;34m,\u001b[0m\u001b[0;34m\u001b[0m\u001b[0;34m\u001b[0m\u001b[0m\n\u001b[0m\u001b[1;32m   4914\u001b[0m         )\n\u001b[1;32m   4915\u001b[0m \u001b[0;34m\u001b[0m\u001b[0m\n",
            "\u001b[0;32m/usr/local/lib/python3.7/dist-packages/pandas/core/generic.py\u001b[0m in \u001b[0;36mdrop\u001b[0;34m(self, labels, axis, index, columns, level, inplace, errors)\u001b[0m\n\u001b[1;32m   4148\u001b[0m         \u001b[0;32mfor\u001b[0m \u001b[0maxis\u001b[0m\u001b[0;34m,\u001b[0m \u001b[0mlabels\u001b[0m \u001b[0;32min\u001b[0m \u001b[0maxes\u001b[0m\u001b[0;34m.\u001b[0m\u001b[0mitems\u001b[0m\u001b[0;34m(\u001b[0m\u001b[0;34m)\u001b[0m\u001b[0;34m:\u001b[0m\u001b[0;34m\u001b[0m\u001b[0;34m\u001b[0m\u001b[0m\n\u001b[1;32m   4149\u001b[0m             \u001b[0;32mif\u001b[0m \u001b[0mlabels\u001b[0m \u001b[0;32mis\u001b[0m \u001b[0;32mnot\u001b[0m \u001b[0;32mNone\u001b[0m\u001b[0;34m:\u001b[0m\u001b[0;34m\u001b[0m\u001b[0;34m\u001b[0m\u001b[0m\n\u001b[0;32m-> 4150\u001b[0;31m                 \u001b[0mobj\u001b[0m \u001b[0;34m=\u001b[0m \u001b[0mobj\u001b[0m\u001b[0;34m.\u001b[0m\u001b[0m_drop_axis\u001b[0m\u001b[0;34m(\u001b[0m\u001b[0mlabels\u001b[0m\u001b[0;34m,\u001b[0m \u001b[0maxis\u001b[0m\u001b[0;34m,\u001b[0m \u001b[0mlevel\u001b[0m\u001b[0;34m=\u001b[0m\u001b[0mlevel\u001b[0m\u001b[0;34m,\u001b[0m \u001b[0merrors\u001b[0m\u001b[0;34m=\u001b[0m\u001b[0merrors\u001b[0m\u001b[0;34m)\u001b[0m\u001b[0;34m\u001b[0m\u001b[0;34m\u001b[0m\u001b[0m\n\u001b[0m\u001b[1;32m   4151\u001b[0m \u001b[0;34m\u001b[0m\u001b[0m\n\u001b[1;32m   4152\u001b[0m         \u001b[0;32mif\u001b[0m \u001b[0minplace\u001b[0m\u001b[0;34m:\u001b[0m\u001b[0;34m\u001b[0m\u001b[0;34m\u001b[0m\u001b[0m\n",
            "\u001b[0;32m/usr/local/lib/python3.7/dist-packages/pandas/core/generic.py\u001b[0m in \u001b[0;36m_drop_axis\u001b[0;34m(self, labels, axis, level, errors)\u001b[0m\n\u001b[1;32m   4183\u001b[0m                 \u001b[0mnew_axis\u001b[0m \u001b[0;34m=\u001b[0m \u001b[0maxis\u001b[0m\u001b[0;34m.\u001b[0m\u001b[0mdrop\u001b[0m\u001b[0;34m(\u001b[0m\u001b[0mlabels\u001b[0m\u001b[0;34m,\u001b[0m \u001b[0mlevel\u001b[0m\u001b[0;34m=\u001b[0m\u001b[0mlevel\u001b[0m\u001b[0;34m,\u001b[0m \u001b[0merrors\u001b[0m\u001b[0;34m=\u001b[0m\u001b[0merrors\u001b[0m\u001b[0;34m)\u001b[0m\u001b[0;34m\u001b[0m\u001b[0;34m\u001b[0m\u001b[0m\n\u001b[1;32m   4184\u001b[0m             \u001b[0;32melse\u001b[0m\u001b[0;34m:\u001b[0m\u001b[0;34m\u001b[0m\u001b[0;34m\u001b[0m\u001b[0m\n\u001b[0;32m-> 4185\u001b[0;31m                 \u001b[0mnew_axis\u001b[0m \u001b[0;34m=\u001b[0m \u001b[0maxis\u001b[0m\u001b[0;34m.\u001b[0m\u001b[0mdrop\u001b[0m\u001b[0;34m(\u001b[0m\u001b[0mlabels\u001b[0m\u001b[0;34m,\u001b[0m \u001b[0merrors\u001b[0m\u001b[0;34m=\u001b[0m\u001b[0merrors\u001b[0m\u001b[0;34m)\u001b[0m\u001b[0;34m\u001b[0m\u001b[0;34m\u001b[0m\u001b[0m\n\u001b[0m\u001b[1;32m   4186\u001b[0m             \u001b[0mresult\u001b[0m \u001b[0;34m=\u001b[0m \u001b[0mself\u001b[0m\u001b[0;34m.\u001b[0m\u001b[0mreindex\u001b[0m\u001b[0;34m(\u001b[0m\u001b[0;34m**\u001b[0m\u001b[0;34m{\u001b[0m\u001b[0maxis_name\u001b[0m\u001b[0;34m:\u001b[0m \u001b[0mnew_axis\u001b[0m\u001b[0;34m}\u001b[0m\u001b[0;34m)\u001b[0m\u001b[0;34m\u001b[0m\u001b[0;34m\u001b[0m\u001b[0m\n\u001b[1;32m   4187\u001b[0m \u001b[0;34m\u001b[0m\u001b[0m\n",
            "\u001b[0;32m/usr/local/lib/python3.7/dist-packages/pandas/core/indexes/base.py\u001b[0m in \u001b[0;36mdrop\u001b[0;34m(self, labels, errors)\u001b[0m\n\u001b[1;32m   6015\u001b[0m         \u001b[0;32mif\u001b[0m \u001b[0mmask\u001b[0m\u001b[0;34m.\u001b[0m\u001b[0many\u001b[0m\u001b[0;34m(\u001b[0m\u001b[0;34m)\u001b[0m\u001b[0;34m:\u001b[0m\u001b[0;34m\u001b[0m\u001b[0;34m\u001b[0m\u001b[0m\n\u001b[1;32m   6016\u001b[0m             \u001b[0;32mif\u001b[0m \u001b[0merrors\u001b[0m \u001b[0;34m!=\u001b[0m \u001b[0;34m\"ignore\"\u001b[0m\u001b[0;34m:\u001b[0m\u001b[0;34m\u001b[0m\u001b[0;34m\u001b[0m\u001b[0m\n\u001b[0;32m-> 6017\u001b[0;31m                 \u001b[0;32mraise\u001b[0m \u001b[0mKeyError\u001b[0m\u001b[0;34m(\u001b[0m\u001b[0;34mf\"{labels[mask]} not found in axis\"\u001b[0m\u001b[0;34m)\u001b[0m\u001b[0;34m\u001b[0m\u001b[0;34m\u001b[0m\u001b[0m\n\u001b[0m\u001b[1;32m   6018\u001b[0m             \u001b[0mindexer\u001b[0m \u001b[0;34m=\u001b[0m \u001b[0mindexer\u001b[0m\u001b[0;34m[\u001b[0m\u001b[0;34m~\u001b[0m\u001b[0mmask\u001b[0m\u001b[0;34m]\u001b[0m\u001b[0;34m\u001b[0m\u001b[0;34m\u001b[0m\u001b[0m\n\u001b[1;32m   6019\u001b[0m         \u001b[0;32mreturn\u001b[0m \u001b[0mself\u001b[0m\u001b[0;34m.\u001b[0m\u001b[0mdelete\u001b[0m\u001b[0;34m(\u001b[0m\u001b[0mindexer\u001b[0m\u001b[0;34m)\u001b[0m\u001b[0;34m\u001b[0m\u001b[0;34m\u001b[0m\u001b[0m\n",
            "\u001b[0;31mKeyError\u001b[0m: \"['Arrival date week number' 'Company' 'Agent' 'Reservation status date'] not found in axis\""
          ]
        }
      ]
    },
    {
      "cell_type": "code",
      "source": [
        "#rows containing duplicate data\n",
        "duplicate_rows_data = data[data.duplicated()]\n",
        "print(\"Number of duplicate rows:\",duplicate_rows_data.shape)"
      ],
      "metadata": {
        "colab": {
          "base_uri": "https://localhost:8080/"
        },
        "id": "te94M0DUwdSK",
        "outputId": "1f504c79-481f-402f-d71d-28333c6c9291"
      },
      "execution_count": null,
      "outputs": [
        {
          "output_type": "stream",
          "name": "stdout",
          "text": [
            "Number of duplicate rows: (0, 28)\n"
          ]
        }
      ]
    },
    {
      "cell_type": "code",
      "source": [
        "# Now, how many rows are there in each column?\n",
        "data.count()"
      ],
      "metadata": {
        "colab": {
          "base_uri": "https://localhost:8080/"
        },
        "id": "w5_yTgA8xQqv",
        "outputId": "d3e874de-867e-45a0-fa30-d5e001b91c9d"
      },
      "execution_count": null,
      "outputs": [
        {
          "output_type": "execute_result",
          "data": {
            "text/plain": [
              "Hotel                             87123\n",
              "Cancelled                         87123\n",
              "Lead time                         87123\n",
              "Arrival date year                 87123\n",
              "Arrival date month                87123\n",
              "Arrival date day of month         87123\n",
              "Stays in weekend nights           87123\n",
              "Stays in week nights              87123\n",
              "Adults                            87123\n",
              "Children                          87123\n",
              "Babies                            87123\n",
              "Meal                              87123\n",
              "Country                           87123\n",
              "Market segment                    87123\n",
              "Distribution channel              87123\n",
              "Repeated guest                    87123\n",
              "previous_cancellations            87123\n",
              "previous_bookings_not_canceled    87123\n",
              "Reserved room type                87123\n",
              "Assigned room type                87123\n",
              "Booking changes                   87123\n",
              "deposit_type                      87123\n",
              "Days in waiting list              87123\n",
              "Customer type                     87123\n",
              "Average daily rate                87123\n",
              "Required car parking spaces       87123\n",
              "Total of special requests         87123\n",
              "Reservation status                87123\n",
              "dtype: int64"
            ]
          },
          "metadata": {},
          "execution_count": 48
        }
      ]
    },
    {
      "cell_type": "markdown",
      "source": [
        "we see that few rows have less number of entries as compared to the other rows. Like the 'Country' row,etc."
      ],
      "metadata": {
        "id": "4d3nXSjESq3f"
      }
    },
    {
      "cell_type": "code",
      "source": [
        "# Let us now remove the duplicates:\n",
        "#dropping the duplicates\n",
        "data=data.drop_duplicates()\n",
        "data.head(5)"
      ],
      "metadata": {
        "colab": {
          "base_uri": "https://localhost:8080/",
          "height": 438
        },
        "id": "lFFbI1XtMOl9",
        "outputId": "99bff75a-18ed-4837-bfbf-2f104a6d8b1d"
      },
      "execution_count": null,
      "outputs": [
        {
          "output_type": "execute_result",
          "data": {
            "text/plain": [
              "          Hotel  Cancelled  Lead time  Arrival date year Arrival date month  \\\n",
              "0  Resort Hotel          0        342               2015               July   \n",
              "1  Resort Hotel          0        737               2015               July   \n",
              "2  Resort Hotel          0          7               2015               July   \n",
              "3  Resort Hotel          0         13               2015               July   \n",
              "4  Resort Hotel          0         14               2015               July   \n",
              "\n",
              "   Arrival date day of month  Stays in weekend nights  Stays in week nights  \\\n",
              "0                          1                        0                     0   \n",
              "1                          1                        0                     0   \n",
              "2                          1                        0                     1   \n",
              "3                          1                        0                     1   \n",
              "4                          1                        0                     2   \n",
              "\n",
              "   Adults  Children  ...  Reserved room type Assigned room type  \\\n",
              "0       2         0  ...                   C                  C   \n",
              "1       2         0  ...                   C                  C   \n",
              "2       1         0  ...                   A                  C   \n",
              "3       1         0  ...                   A                  A   \n",
              "4       2         0  ...                   A                  A   \n",
              "\n",
              "  Booking changes deposit_type Days in waiting list  Customer type  \\\n",
              "0               3   No Deposit                    0      Transient   \n",
              "1               4   No Deposit                    0      Transient   \n",
              "2               0   No Deposit                    0      Transient   \n",
              "3               0   No Deposit                    0      Transient   \n",
              "4               0   No Deposit                    0      Transient   \n",
              "\n",
              "   Average daily rate  Required car parking spaces Total of special requests  \\\n",
              "0                 0.0                            0                         0   \n",
              "1                 0.0                            0                         0   \n",
              "2                75.0                            0                         0   \n",
              "3                75.0                            0                         0   \n",
              "4                98.0                            0                         1   \n",
              "\n",
              "  Reservation status  \n",
              "0          Check-Out  \n",
              "1          Check-Out  \n",
              "2          Check-Out  \n",
              "3          Check-Out  \n",
              "4          Check-Out  \n",
              "\n",
              "[5 rows x 28 columns]"
            ],
            "text/html": [
              "\n",
              "  <div id=\"df-693308cf-ba08-4e1a-9c4d-44ad40023252\">\n",
              "    <div class=\"colab-df-container\">\n",
              "      <div>\n",
              "<style scoped>\n",
              "    .dataframe tbody tr th:only-of-type {\n",
              "        vertical-align: middle;\n",
              "    }\n",
              "\n",
              "    .dataframe tbody tr th {\n",
              "        vertical-align: top;\n",
              "    }\n",
              "\n",
              "    .dataframe thead th {\n",
              "        text-align: right;\n",
              "    }\n",
              "</style>\n",
              "<table border=\"1\" class=\"dataframe\">\n",
              "  <thead>\n",
              "    <tr style=\"text-align: right;\">\n",
              "      <th></th>\n",
              "      <th>Hotel</th>\n",
              "      <th>Cancelled</th>\n",
              "      <th>Lead time</th>\n",
              "      <th>Arrival date year</th>\n",
              "      <th>Arrival date month</th>\n",
              "      <th>Arrival date day of month</th>\n",
              "      <th>Stays in weekend nights</th>\n",
              "      <th>Stays in week nights</th>\n",
              "      <th>Adults</th>\n",
              "      <th>Children</th>\n",
              "      <th>...</th>\n",
              "      <th>Reserved room type</th>\n",
              "      <th>Assigned room type</th>\n",
              "      <th>Booking changes</th>\n",
              "      <th>deposit_type</th>\n",
              "      <th>Days in waiting list</th>\n",
              "      <th>Customer type</th>\n",
              "      <th>Average daily rate</th>\n",
              "      <th>Required car parking spaces</th>\n",
              "      <th>Total of special requests</th>\n",
              "      <th>Reservation status</th>\n",
              "    </tr>\n",
              "  </thead>\n",
              "  <tbody>\n",
              "    <tr>\n",
              "      <th>0</th>\n",
              "      <td>Resort Hotel</td>\n",
              "      <td>0</td>\n",
              "      <td>342</td>\n",
              "      <td>2015</td>\n",
              "      <td>July</td>\n",
              "      <td>1</td>\n",
              "      <td>0</td>\n",
              "      <td>0</td>\n",
              "      <td>2</td>\n",
              "      <td>0</td>\n",
              "      <td>...</td>\n",
              "      <td>C</td>\n",
              "      <td>C</td>\n",
              "      <td>3</td>\n",
              "      <td>No Deposit</td>\n",
              "      <td>0</td>\n",
              "      <td>Transient</td>\n",
              "      <td>0.0</td>\n",
              "      <td>0</td>\n",
              "      <td>0</td>\n",
              "      <td>Check-Out</td>\n",
              "    </tr>\n",
              "    <tr>\n",
              "      <th>1</th>\n",
              "      <td>Resort Hotel</td>\n",
              "      <td>0</td>\n",
              "      <td>737</td>\n",
              "      <td>2015</td>\n",
              "      <td>July</td>\n",
              "      <td>1</td>\n",
              "      <td>0</td>\n",
              "      <td>0</td>\n",
              "      <td>2</td>\n",
              "      <td>0</td>\n",
              "      <td>...</td>\n",
              "      <td>C</td>\n",
              "      <td>C</td>\n",
              "      <td>4</td>\n",
              "      <td>No Deposit</td>\n",
              "      <td>0</td>\n",
              "      <td>Transient</td>\n",
              "      <td>0.0</td>\n",
              "      <td>0</td>\n",
              "      <td>0</td>\n",
              "      <td>Check-Out</td>\n",
              "    </tr>\n",
              "    <tr>\n",
              "      <th>2</th>\n",
              "      <td>Resort Hotel</td>\n",
              "      <td>0</td>\n",
              "      <td>7</td>\n",
              "      <td>2015</td>\n",
              "      <td>July</td>\n",
              "      <td>1</td>\n",
              "      <td>0</td>\n",
              "      <td>1</td>\n",
              "      <td>1</td>\n",
              "      <td>0</td>\n",
              "      <td>...</td>\n",
              "      <td>A</td>\n",
              "      <td>C</td>\n",
              "      <td>0</td>\n",
              "      <td>No Deposit</td>\n",
              "      <td>0</td>\n",
              "      <td>Transient</td>\n",
              "      <td>75.0</td>\n",
              "      <td>0</td>\n",
              "      <td>0</td>\n",
              "      <td>Check-Out</td>\n",
              "    </tr>\n",
              "    <tr>\n",
              "      <th>3</th>\n",
              "      <td>Resort Hotel</td>\n",
              "      <td>0</td>\n",
              "      <td>13</td>\n",
              "      <td>2015</td>\n",
              "      <td>July</td>\n",
              "      <td>1</td>\n",
              "      <td>0</td>\n",
              "      <td>1</td>\n",
              "      <td>1</td>\n",
              "      <td>0</td>\n",
              "      <td>...</td>\n",
              "      <td>A</td>\n",
              "      <td>A</td>\n",
              "      <td>0</td>\n",
              "      <td>No Deposit</td>\n",
              "      <td>0</td>\n",
              "      <td>Transient</td>\n",
              "      <td>75.0</td>\n",
              "      <td>0</td>\n",
              "      <td>0</td>\n",
              "      <td>Check-Out</td>\n",
              "    </tr>\n",
              "    <tr>\n",
              "      <th>4</th>\n",
              "      <td>Resort Hotel</td>\n",
              "      <td>0</td>\n",
              "      <td>14</td>\n",
              "      <td>2015</td>\n",
              "      <td>July</td>\n",
              "      <td>1</td>\n",
              "      <td>0</td>\n",
              "      <td>2</td>\n",
              "      <td>2</td>\n",
              "      <td>0</td>\n",
              "      <td>...</td>\n",
              "      <td>A</td>\n",
              "      <td>A</td>\n",
              "      <td>0</td>\n",
              "      <td>No Deposit</td>\n",
              "      <td>0</td>\n",
              "      <td>Transient</td>\n",
              "      <td>98.0</td>\n",
              "      <td>0</td>\n",
              "      <td>1</td>\n",
              "      <td>Check-Out</td>\n",
              "    </tr>\n",
              "  </tbody>\n",
              "</table>\n",
              "<p>5 rows × 28 columns</p>\n",
              "</div>\n",
              "      <button class=\"colab-df-convert\" onclick=\"convertToInteractive('df-693308cf-ba08-4e1a-9c4d-44ad40023252')\"\n",
              "              title=\"Convert this dataframe to an interactive table.\"\n",
              "              style=\"display:none;\">\n",
              "        \n",
              "  <svg xmlns=\"http://www.w3.org/2000/svg\" height=\"24px\"viewBox=\"0 0 24 24\"\n",
              "       width=\"24px\">\n",
              "    <path d=\"M0 0h24v24H0V0z\" fill=\"none\"/>\n",
              "    <path d=\"M18.56 5.44l.94 2.06.94-2.06 2.06-.94-2.06-.94-.94-2.06-.94 2.06-2.06.94zm-11 1L8.5 8.5l.94-2.06 2.06-.94-2.06-.94L8.5 2.5l-.94 2.06-2.06.94zm10 10l.94 2.06.94-2.06 2.06-.94-2.06-.94-.94-2.06-.94 2.06-2.06.94z\"/><path d=\"M17.41 7.96l-1.37-1.37c-.4-.4-.92-.59-1.43-.59-.52 0-1.04.2-1.43.59L10.3 9.45l-7.72 7.72c-.78.78-.78 2.05 0 2.83L4 21.41c.39.39.9.59 1.41.59.51 0 1.02-.2 1.41-.59l7.78-7.78 2.81-2.81c.8-.78.8-2.07 0-2.86zM5.41 20L4 18.59l7.72-7.72 1.47 1.35L5.41 20z\"/>\n",
              "  </svg>\n",
              "      </button>\n",
              "      \n",
              "  <style>\n",
              "    .colab-df-container {\n",
              "      display:flex;\n",
              "      flex-wrap:wrap;\n",
              "      gap: 12px;\n",
              "    }\n",
              "\n",
              "    .colab-df-convert {\n",
              "      background-color: #E8F0FE;\n",
              "      border: none;\n",
              "      border-radius: 50%;\n",
              "      cursor: pointer;\n",
              "      display: none;\n",
              "      fill: #1967D2;\n",
              "      height: 32px;\n",
              "      padding: 0 0 0 0;\n",
              "      width: 32px;\n",
              "    }\n",
              "\n",
              "    .colab-df-convert:hover {\n",
              "      background-color: #E2EBFA;\n",
              "      box-shadow: 0px 1px 2px rgba(60, 64, 67, 0.3), 0px 1px 3px 1px rgba(60, 64, 67, 0.15);\n",
              "      fill: #174EA6;\n",
              "    }\n",
              "\n",
              "    [theme=dark] .colab-df-convert {\n",
              "      background-color: #3B4455;\n",
              "      fill: #D2E3FC;\n",
              "    }\n",
              "\n",
              "    [theme=dark] .colab-df-convert:hover {\n",
              "      background-color: #434B5C;\n",
              "      box-shadow: 0px 1px 3px 1px rgba(0, 0, 0, 0.15);\n",
              "      filter: drop-shadow(0px 1px 2px rgba(0, 0, 0, 0.3));\n",
              "      fill: #FFFFFF;\n",
              "    }\n",
              "  </style>\n",
              "\n",
              "      <script>\n",
              "        const buttonEl =\n",
              "          document.querySelector('#df-693308cf-ba08-4e1a-9c4d-44ad40023252 button.colab-df-convert');\n",
              "        buttonEl.style.display =\n",
              "          google.colab.kernel.accessAllowed ? 'block' : 'none';\n",
              "\n",
              "        async function convertToInteractive(key) {\n",
              "          const element = document.querySelector('#df-693308cf-ba08-4e1a-9c4d-44ad40023252');\n",
              "          const dataTable =\n",
              "            await google.colab.kernel.invokeFunction('convertToInteractive',\n",
              "                                                     [key], {});\n",
              "          if (!dataTable) return;\n",
              "\n",
              "          const docLinkHtml = 'Like what you see? Visit the ' +\n",
              "            '<a target=\"_blank\" href=https://colab.research.google.com/notebooks/data_table.ipynb>data table notebook</a>'\n",
              "            + ' to learn more about interactive tables.';\n",
              "          element.innerHTML = '';\n",
              "          dataTable['output_type'] = 'display_data';\n",
              "          await google.colab.output.renderOutput(dataTable, element);\n",
              "          const docLink = document.createElement('div');\n",
              "          docLink.innerHTML = docLinkHtml;\n",
              "          element.appendChild(docLink);\n",
              "        }\n",
              "      </script>\n",
              "    </div>\n",
              "  </div>\n",
              "  "
            ]
          },
          "metadata": {},
          "execution_count": 49
        }
      ]
    },
    {
      "cell_type": "code",
      "source": [
        "#to see that how many rows are left with in each column after dropping the duplicate values:\n",
        "data.count()"
      ],
      "metadata": {
        "colab": {
          "base_uri": "https://localhost:8080/"
        },
        "id": "LhkvGnX8MlkV",
        "outputId": "3a3b58f9-9a7b-47f4-c3a1-b97e8a66a18c"
      },
      "execution_count": null,
      "outputs": [
        {
          "output_type": "execute_result",
          "data": {
            "text/plain": [
              "Hotel                             87123\n",
              "Cancelled                         87123\n",
              "Lead time                         87123\n",
              "Arrival date year                 87123\n",
              "Arrival date month                87123\n",
              "Arrival date day of month         87123\n",
              "Stays in weekend nights           87123\n",
              "Stays in week nights              87123\n",
              "Adults                            87123\n",
              "Children                          87123\n",
              "Babies                            87123\n",
              "Meal                              87123\n",
              "Country                           87123\n",
              "Market segment                    87123\n",
              "Distribution channel              87123\n",
              "Repeated guest                    87123\n",
              "previous_cancellations            87123\n",
              "previous_bookings_not_canceled    87123\n",
              "Reserved room type                87123\n",
              "Assigned room type                87123\n",
              "Booking changes                   87123\n",
              "deposit_type                      87123\n",
              "Days in waiting list              87123\n",
              "Customer type                     87123\n",
              "Average daily rate                87123\n",
              "Required car parking spaces       87123\n",
              "Total of special requests         87123\n",
              "Reservation status                87123\n",
              "dtype: int64"
            ]
          },
          "metadata": {},
          "execution_count": 50
        }
      ]
    },
    {
      "cell_type": "markdown",
      "source": [
        "we see that around 87,000 are still left which was previouslly around 1 lac rows. So, our dataset did have a lot of duplicate values in it."
      ],
      "metadata": {
        "id": "H7lO-VLDT-2Q"
      }
    },
    {
      "cell_type": "code",
      "source": [
        "# Lets check if the dataset has any null values in it:\n",
        "#finding the null values\n",
        "print(data.isnull().sum())"
      ],
      "metadata": {
        "colab": {
          "base_uri": "https://localhost:8080/"
        },
        "id": "boPkzQTschCN",
        "outputId": "30b0ceb7-dea8-45b4-848f-a89e5f1da4b9"
      },
      "execution_count": null,
      "outputs": [
        {
          "output_type": "stream",
          "name": "stdout",
          "text": [
            "Hotel                             0\n",
            "Cancelled                         0\n",
            "Lead time                         0\n",
            "Arrival date year                 0\n",
            "Arrival date month                0\n",
            "Arrival date day of month         0\n",
            "Stays in weekend nights           0\n",
            "Stays in week nights              0\n",
            "Adults                            0\n",
            "Children                          0\n",
            "Babies                            0\n",
            "Meal                              0\n",
            "Country                           0\n",
            "Market segment                    0\n",
            "Distribution channel              0\n",
            "Repeated guest                    0\n",
            "previous_cancellations            0\n",
            "previous_bookings_not_canceled    0\n",
            "Reserved room type                0\n",
            "Assigned room type                0\n",
            "Booking changes                   0\n",
            "deposit_type                      0\n",
            "Days in waiting list              0\n",
            "Customer type                     0\n",
            "Average daily rate                0\n",
            "Required car parking spaces       0\n",
            "Total of special requests         0\n",
            "Reservation status                0\n",
            "dtype: int64\n"
          ]
        }
      ]
    },
    {
      "cell_type": "code",
      "source": [
        "# Replace the null values with 0\n",
        "#filling the null values\n",
        "data=data.fillna(value=0) \n",
        "data.count()"
      ],
      "metadata": {
        "colab": {
          "base_uri": "https://localhost:8080/"
        },
        "id": "euGK0oDmyJjU",
        "outputId": "bef75f67-9161-4c9a-8c5a-5d2d6dd16ad8"
      },
      "execution_count": null,
      "outputs": [
        {
          "output_type": "execute_result",
          "data": {
            "text/plain": [
              "Hotel                             87123\n",
              "Cancelled                         87123\n",
              "Lead time                         87123\n",
              "Arrival date year                 87123\n",
              "Arrival date month                87123\n",
              "Arrival date day of month         87123\n",
              "Stays in weekend nights           87123\n",
              "Stays in week nights              87123\n",
              "Adults                            87123\n",
              "Children                          87123\n",
              "Babies                            87123\n",
              "Meal                              87123\n",
              "Country                           87123\n",
              "Market segment                    87123\n",
              "Distribution channel              87123\n",
              "Repeated guest                    87123\n",
              "previous_cancellations            87123\n",
              "previous_bookings_not_canceled    87123\n",
              "Reserved room type                87123\n",
              "Assigned room type                87123\n",
              "Booking changes                   87123\n",
              "deposit_type                      87123\n",
              "Days in waiting list              87123\n",
              "Customer type                     87123\n",
              "Average daily rate                87123\n",
              "Required car parking spaces       87123\n",
              "Total of special requests         87123\n",
              "Reservation status                87123\n",
              "dtype: int64"
            ]
          },
          "metadata": {},
          "execution_count": 52
        }
      ]
    },
    {
      "cell_type": "code",
      "source": [
        "# To ensure that there are no more null values:\n",
        "print(data.isnull().sum())"
      ],
      "metadata": {
        "colab": {
          "base_uri": "https://localhost:8080/"
        },
        "id": "tui1K2bV0DE7",
        "outputId": "7568400f-1e3d-434b-a5fe-db9627650473"
      },
      "execution_count": null,
      "outputs": [
        {
          "output_type": "stream",
          "name": "stdout",
          "text": [
            "Hotel                             0\n",
            "Cancelled                         0\n",
            "Lead time                         0\n",
            "Arrival date year                 0\n",
            "Arrival date month                0\n",
            "Arrival date day of month         0\n",
            "Stays in weekend nights           0\n",
            "Stays in week nights              0\n",
            "Adults                            0\n",
            "Children                          0\n",
            "Babies                            0\n",
            "Meal                              0\n",
            "Country                           0\n",
            "Market segment                    0\n",
            "Distribution channel              0\n",
            "Repeated guest                    0\n",
            "previous_cancellations            0\n",
            "previous_bookings_not_canceled    0\n",
            "Reserved room type                0\n",
            "Assigned room type                0\n",
            "Booking changes                   0\n",
            "deposit_type                      0\n",
            "Days in waiting list              0\n",
            "Customer type                     0\n",
            "Average daily rate                0\n",
            "Required car parking spaces       0\n",
            "Total of special requests         0\n",
            "Reservation status                0\n",
            "dtype: int64\n"
          ]
        }
      ]
    },
    {
      "cell_type": "code",
      "source": [
        "# Using Describe function to understand the various factors in various values:\n",
        "data.describe()"
      ],
      "metadata": {
        "colab": {
          "base_uri": "https://localhost:8080/",
          "height": 399
        },
        "id": "a6ivLF0P0W2R",
        "outputId": "3511fc9c-b627-42d5-cf90-78516e20aa83"
      },
      "execution_count": null,
      "outputs": [
        {
          "output_type": "execute_result",
          "data": {
            "text/plain": [
              "          Cancelled     Lead time  Arrival date year  \\\n",
              "count  87123.000000  87123.000000       87123.000000   \n",
              "mean       0.272879     79.729601        2016.210541   \n",
              "std        0.445442     85.941448           0.685965   \n",
              "min        0.000000      0.000000        2015.000000   \n",
              "25%        0.000000     11.000000        2016.000000   \n",
              "50%        0.000000     49.000000        2016.000000   \n",
              "75%        1.000000    125.000000        2017.000000   \n",
              "max        1.000000    737.000000        2017.000000   \n",
              "\n",
              "       Arrival date day of month  Stays in weekend nights  \\\n",
              "count               87123.000000             87123.000000   \n",
              "mean                   15.815376                 1.005441   \n",
              "std                     8.835234                 1.031579   \n",
              "min                     1.000000                 0.000000   \n",
              "25%                     8.000000                 0.000000   \n",
              "50%                    16.000000                 1.000000   \n",
              "75%                    23.000000                 2.000000   \n",
              "max                    31.000000                19.000000   \n",
              "\n",
              "       Stays in week nights        Adults      Children        Babies  \\\n",
              "count          87123.000000  87123.000000  87123.000000  87123.000000   \n",
              "mean               2.625495      1.875842      0.138873      0.010835   \n",
              "std                2.051753      0.626833      0.456239      0.113674   \n",
              "min                0.000000      0.000000      0.000000      0.000000   \n",
              "25%                1.000000      2.000000      0.000000      0.000000   \n",
              "50%                2.000000      2.000000      0.000000      0.000000   \n",
              "75%                4.000000      2.000000      0.000000      0.000000   \n",
              "max               50.000000     55.000000     10.000000     10.000000   \n",
              "\n",
              "       Repeated guest  previous_cancellations  previous_bookings_not_canceled  \\\n",
              "count    87123.000000            87123.000000                    87123.000000   \n",
              "mean         0.039186                0.030233                        0.184567   \n",
              "std          0.194038                0.369369                        1.734574   \n",
              "min          0.000000                0.000000                        0.000000   \n",
              "25%          0.000000                0.000000                        0.000000   \n",
              "50%          0.000000                0.000000                        0.000000   \n",
              "75%          0.000000                0.000000                        0.000000   \n",
              "max          1.000000               26.000000                       72.000000   \n",
              "\n",
              "       Booking changes  Days in waiting list  Average daily rate  \\\n",
              "count     87123.000000          87123.000000        87123.000000   \n",
              "mean          0.272270              0.731885          106.366713   \n",
              "std           0.727994              9.866000           55.044371   \n",
              "min           0.000000              0.000000           -6.380000   \n",
              "25%           0.000000              0.000000           72.000000   \n",
              "50%           0.000000              0.000000           98.100000   \n",
              "75%           0.000000              0.000000          134.000000   \n",
              "max          21.000000            391.000000         5400.000000   \n",
              "\n",
              "       Required car parking spaces  Total of special requests  \n",
              "count                 87123.000000               87123.000000  \n",
              "mean                      0.084490                   0.699907  \n",
              "std                       0.281934                   0.832228  \n",
              "min                       0.000000                   0.000000  \n",
              "25%                       0.000000                   0.000000  \n",
              "50%                       0.000000                   0.000000  \n",
              "75%                       0.000000                   1.000000  \n",
              "max                       8.000000                   5.000000  "
            ],
            "text/html": [
              "\n",
              "  <div id=\"df-3fb007de-9618-427f-8660-652eae51e5f6\">\n",
              "    <div class=\"colab-df-container\">\n",
              "      <div>\n",
              "<style scoped>\n",
              "    .dataframe tbody tr th:only-of-type {\n",
              "        vertical-align: middle;\n",
              "    }\n",
              "\n",
              "    .dataframe tbody tr th {\n",
              "        vertical-align: top;\n",
              "    }\n",
              "\n",
              "    .dataframe thead th {\n",
              "        text-align: right;\n",
              "    }\n",
              "</style>\n",
              "<table border=\"1\" class=\"dataframe\">\n",
              "  <thead>\n",
              "    <tr style=\"text-align: right;\">\n",
              "      <th></th>\n",
              "      <th>Cancelled</th>\n",
              "      <th>Lead time</th>\n",
              "      <th>Arrival date year</th>\n",
              "      <th>Arrival date day of month</th>\n",
              "      <th>Stays in weekend nights</th>\n",
              "      <th>Stays in week nights</th>\n",
              "      <th>Adults</th>\n",
              "      <th>Children</th>\n",
              "      <th>Babies</th>\n",
              "      <th>Repeated guest</th>\n",
              "      <th>previous_cancellations</th>\n",
              "      <th>previous_bookings_not_canceled</th>\n",
              "      <th>Booking changes</th>\n",
              "      <th>Days in waiting list</th>\n",
              "      <th>Average daily rate</th>\n",
              "      <th>Required car parking spaces</th>\n",
              "      <th>Total of special requests</th>\n",
              "    </tr>\n",
              "  </thead>\n",
              "  <tbody>\n",
              "    <tr>\n",
              "      <th>count</th>\n",
              "      <td>87123.000000</td>\n",
              "      <td>87123.000000</td>\n",
              "      <td>87123.000000</td>\n",
              "      <td>87123.000000</td>\n",
              "      <td>87123.000000</td>\n",
              "      <td>87123.000000</td>\n",
              "      <td>87123.000000</td>\n",
              "      <td>87123.000000</td>\n",
              "      <td>87123.000000</td>\n",
              "      <td>87123.000000</td>\n",
              "      <td>87123.000000</td>\n",
              "      <td>87123.000000</td>\n",
              "      <td>87123.000000</td>\n",
              "      <td>87123.000000</td>\n",
              "      <td>87123.000000</td>\n",
              "      <td>87123.000000</td>\n",
              "      <td>87123.000000</td>\n",
              "    </tr>\n",
              "    <tr>\n",
              "      <th>mean</th>\n",
              "      <td>0.272879</td>\n",
              "      <td>79.729601</td>\n",
              "      <td>2016.210541</td>\n",
              "      <td>15.815376</td>\n",
              "      <td>1.005441</td>\n",
              "      <td>2.625495</td>\n",
              "      <td>1.875842</td>\n",
              "      <td>0.138873</td>\n",
              "      <td>0.010835</td>\n",
              "      <td>0.039186</td>\n",
              "      <td>0.030233</td>\n",
              "      <td>0.184567</td>\n",
              "      <td>0.272270</td>\n",
              "      <td>0.731885</td>\n",
              "      <td>106.366713</td>\n",
              "      <td>0.084490</td>\n",
              "      <td>0.699907</td>\n",
              "    </tr>\n",
              "    <tr>\n",
              "      <th>std</th>\n",
              "      <td>0.445442</td>\n",
              "      <td>85.941448</td>\n",
              "      <td>0.685965</td>\n",
              "      <td>8.835234</td>\n",
              "      <td>1.031579</td>\n",
              "      <td>2.051753</td>\n",
              "      <td>0.626833</td>\n",
              "      <td>0.456239</td>\n",
              "      <td>0.113674</td>\n",
              "      <td>0.194038</td>\n",
              "      <td>0.369369</td>\n",
              "      <td>1.734574</td>\n",
              "      <td>0.727994</td>\n",
              "      <td>9.866000</td>\n",
              "      <td>55.044371</td>\n",
              "      <td>0.281934</td>\n",
              "      <td>0.832228</td>\n",
              "    </tr>\n",
              "    <tr>\n",
              "      <th>min</th>\n",
              "      <td>0.000000</td>\n",
              "      <td>0.000000</td>\n",
              "      <td>2015.000000</td>\n",
              "      <td>1.000000</td>\n",
              "      <td>0.000000</td>\n",
              "      <td>0.000000</td>\n",
              "      <td>0.000000</td>\n",
              "      <td>0.000000</td>\n",
              "      <td>0.000000</td>\n",
              "      <td>0.000000</td>\n",
              "      <td>0.000000</td>\n",
              "      <td>0.000000</td>\n",
              "      <td>0.000000</td>\n",
              "      <td>0.000000</td>\n",
              "      <td>-6.380000</td>\n",
              "      <td>0.000000</td>\n",
              "      <td>0.000000</td>\n",
              "    </tr>\n",
              "    <tr>\n",
              "      <th>25%</th>\n",
              "      <td>0.000000</td>\n",
              "      <td>11.000000</td>\n",
              "      <td>2016.000000</td>\n",
              "      <td>8.000000</td>\n",
              "      <td>0.000000</td>\n",
              "      <td>1.000000</td>\n",
              "      <td>2.000000</td>\n",
              "      <td>0.000000</td>\n",
              "      <td>0.000000</td>\n",
              "      <td>0.000000</td>\n",
              "      <td>0.000000</td>\n",
              "      <td>0.000000</td>\n",
              "      <td>0.000000</td>\n",
              "      <td>0.000000</td>\n",
              "      <td>72.000000</td>\n",
              "      <td>0.000000</td>\n",
              "      <td>0.000000</td>\n",
              "    </tr>\n",
              "    <tr>\n",
              "      <th>50%</th>\n",
              "      <td>0.000000</td>\n",
              "      <td>49.000000</td>\n",
              "      <td>2016.000000</td>\n",
              "      <td>16.000000</td>\n",
              "      <td>1.000000</td>\n",
              "      <td>2.000000</td>\n",
              "      <td>2.000000</td>\n",
              "      <td>0.000000</td>\n",
              "      <td>0.000000</td>\n",
              "      <td>0.000000</td>\n",
              "      <td>0.000000</td>\n",
              "      <td>0.000000</td>\n",
              "      <td>0.000000</td>\n",
              "      <td>0.000000</td>\n",
              "      <td>98.100000</td>\n",
              "      <td>0.000000</td>\n",
              "      <td>0.000000</td>\n",
              "    </tr>\n",
              "    <tr>\n",
              "      <th>75%</th>\n",
              "      <td>1.000000</td>\n",
              "      <td>125.000000</td>\n",
              "      <td>2017.000000</td>\n",
              "      <td>23.000000</td>\n",
              "      <td>2.000000</td>\n",
              "      <td>4.000000</td>\n",
              "      <td>2.000000</td>\n",
              "      <td>0.000000</td>\n",
              "      <td>0.000000</td>\n",
              "      <td>0.000000</td>\n",
              "      <td>0.000000</td>\n",
              "      <td>0.000000</td>\n",
              "      <td>0.000000</td>\n",
              "      <td>0.000000</td>\n",
              "      <td>134.000000</td>\n",
              "      <td>0.000000</td>\n",
              "      <td>1.000000</td>\n",
              "    </tr>\n",
              "    <tr>\n",
              "      <th>max</th>\n",
              "      <td>1.000000</td>\n",
              "      <td>737.000000</td>\n",
              "      <td>2017.000000</td>\n",
              "      <td>31.000000</td>\n",
              "      <td>19.000000</td>\n",
              "      <td>50.000000</td>\n",
              "      <td>55.000000</td>\n",
              "      <td>10.000000</td>\n",
              "      <td>10.000000</td>\n",
              "      <td>1.000000</td>\n",
              "      <td>26.000000</td>\n",
              "      <td>72.000000</td>\n",
              "      <td>21.000000</td>\n",
              "      <td>391.000000</td>\n",
              "      <td>5400.000000</td>\n",
              "      <td>8.000000</td>\n",
              "      <td>5.000000</td>\n",
              "    </tr>\n",
              "  </tbody>\n",
              "</table>\n",
              "</div>\n",
              "      <button class=\"colab-df-convert\" onclick=\"convertToInteractive('df-3fb007de-9618-427f-8660-652eae51e5f6')\"\n",
              "              title=\"Convert this dataframe to an interactive table.\"\n",
              "              style=\"display:none;\">\n",
              "        \n",
              "  <svg xmlns=\"http://www.w3.org/2000/svg\" height=\"24px\"viewBox=\"0 0 24 24\"\n",
              "       width=\"24px\">\n",
              "    <path d=\"M0 0h24v24H0V0z\" fill=\"none\"/>\n",
              "    <path d=\"M18.56 5.44l.94 2.06.94-2.06 2.06-.94-2.06-.94-.94-2.06-.94 2.06-2.06.94zm-11 1L8.5 8.5l.94-2.06 2.06-.94-2.06-.94L8.5 2.5l-.94 2.06-2.06.94zm10 10l.94 2.06.94-2.06 2.06-.94-2.06-.94-.94-2.06-.94 2.06-2.06.94z\"/><path d=\"M17.41 7.96l-1.37-1.37c-.4-.4-.92-.59-1.43-.59-.52 0-1.04.2-1.43.59L10.3 9.45l-7.72 7.72c-.78.78-.78 2.05 0 2.83L4 21.41c.39.39.9.59 1.41.59.51 0 1.02-.2 1.41-.59l7.78-7.78 2.81-2.81c.8-.78.8-2.07 0-2.86zM5.41 20L4 18.59l7.72-7.72 1.47 1.35L5.41 20z\"/>\n",
              "  </svg>\n",
              "      </button>\n",
              "      \n",
              "  <style>\n",
              "    .colab-df-container {\n",
              "      display:flex;\n",
              "      flex-wrap:wrap;\n",
              "      gap: 12px;\n",
              "    }\n",
              "\n",
              "    .colab-df-convert {\n",
              "      background-color: #E8F0FE;\n",
              "      border: none;\n",
              "      border-radius: 50%;\n",
              "      cursor: pointer;\n",
              "      display: none;\n",
              "      fill: #1967D2;\n",
              "      height: 32px;\n",
              "      padding: 0 0 0 0;\n",
              "      width: 32px;\n",
              "    }\n",
              "\n",
              "    .colab-df-convert:hover {\n",
              "      background-color: #E2EBFA;\n",
              "      box-shadow: 0px 1px 2px rgba(60, 64, 67, 0.3), 0px 1px 3px 1px rgba(60, 64, 67, 0.15);\n",
              "      fill: #174EA6;\n",
              "    }\n",
              "\n",
              "    [theme=dark] .colab-df-convert {\n",
              "      background-color: #3B4455;\n",
              "      fill: #D2E3FC;\n",
              "    }\n",
              "\n",
              "    [theme=dark] .colab-df-convert:hover {\n",
              "      background-color: #434B5C;\n",
              "      box-shadow: 0px 1px 3px 1px rgba(0, 0, 0, 0.15);\n",
              "      filter: drop-shadow(0px 1px 2px rgba(0, 0, 0, 0.3));\n",
              "      fill: #FFFFFF;\n",
              "    }\n",
              "  </style>\n",
              "\n",
              "      <script>\n",
              "        const buttonEl =\n",
              "          document.querySelector('#df-3fb007de-9618-427f-8660-652eae51e5f6 button.colab-df-convert');\n",
              "        buttonEl.style.display =\n",
              "          google.colab.kernel.accessAllowed ? 'block' : 'none';\n",
              "\n",
              "        async function convertToInteractive(key) {\n",
              "          const element = document.querySelector('#df-3fb007de-9618-427f-8660-652eae51e5f6');\n",
              "          const dataTable =\n",
              "            await google.colab.kernel.invokeFunction('convertToInteractive',\n",
              "                                                     [key], {});\n",
              "          if (!dataTable) return;\n",
              "\n",
              "          const docLinkHtml = 'Like what you see? Visit the ' +\n",
              "            '<a target=\"_blank\" href=https://colab.research.google.com/notebooks/data_table.ipynb>data table notebook</a>'\n",
              "            + ' to learn more about interactive tables.';\n",
              "          element.innerHTML = '';\n",
              "          dataTable['output_type'] = 'display_data';\n",
              "          await google.colab.output.renderOutput(dataTable, element);\n",
              "          const docLink = document.createElement('div');\n",
              "          docLink.innerHTML = docLinkHtml;\n",
              "          element.appendChild(docLink);\n",
              "        }\n",
              "      </script>\n",
              "    </div>\n",
              "  </div>\n",
              "  "
            ]
          },
          "metadata": {},
          "execution_count": 54
        }
      ]
    },
    {
      "cell_type": "markdown",
      "source": [
        "Here, we see that in Lead time, we have minimum is '0' i.e the time between the date of booking & the arrival date is minimum '0' and maximum '737' which means the maximum is around 2 years.\n",
        "Likeswise in Booking changes, we have a minimum of '0' i.e '0' booking changes and the maximum of '21'. So, we have a maximum of 21 booking changes in our dataset."
      ],
      "metadata": {
        "id": "db-YTY7sXmcg"
      }
    },
    {
      "cell_type": "markdown",
      "source": [
        "***After reducing the dataset, let us again see the number of bookings for both the hotels***"
      ],
      "metadata": {
        "id": "6xgvnVxAZVXC"
      }
    },
    {
      "cell_type": "code",
      "source": [
        "fig, ax= plt.subplots(figsize=(12,6))\n",
        "ax.hist(data['Hotel'])\n",
        "ax.set_xlabel('Hotel type')\n",
        "ax.set_ylabel('No. of Bookings-->')\n",
        "plt.show()"
      ],
      "metadata": {
        "colab": {
          "base_uri": "https://localhost:8080/",
          "height": 394
        },
        "id": "1PLM56-d01p1",
        "outputId": "510feb62-32e1-4112-efe5-7b51202752c0"
      },
      "execution_count": null,
      "outputs": [
        {
          "output_type": "display_data",
          "data": {
            "text/plain": [
              "<Figure size 864x432 with 1 Axes>"
            ],
            "image/png": "[encoded data removed]"
          },
          "metadata": {}
        }
      ]
    },
    {
      "cell_type": "markdown",
      "source": [
        "Now, the resort hotel entry has reduced from 40,000 to around 33,000 and city hotel have been reduced from 80,000 to around 53,000."
      ],
      "metadata": {
        "id": "EKibE8BYaRWc"
      }
    },
    {
      "cell_type": "markdown",
      "source": [
        "# **Data** **Visualisation**"
      ],
      "metadata": {
        "id": "1L40JWSe6uc5"
      }
    },
    {
      "cell_type": "markdown",
      "source": [
        "**Relation between Market segment and Days on waiting list**"
      ],
      "metadata": {
        "id": "MG0qn-nPbAVh"
      }
    },
    {
      "cell_type": "code",
      "source": [
        "fig, ax = plt.subplots(figsize=(10,6))\n",
        "#plt.subplots() is a function that returns a tuple containing a figure and axes object(s). Thus when using fig, ax = plt.subplots\n",
        "ax.scatter(data['Market segment'], data['Days in waiting list'])\n",
        "ax.set_xlabel('Market segment')\n",
        "ax.set_ylabel('Days on waiting list')\n",
        "plt.show()"
      ],
      "metadata": {
        "colab": {
          "base_uri": "https://localhost:8080/",
          "height": 394
        },
        "id": "ZjzOS5nf65_m",
        "outputId": "1be2abb0-8c51-44bb-da05-94bb9059e7a8"
      },
      "execution_count": null,
      "outputs": [
        {
          "output_type": "display_data",
          "data": {
            "text/plain": [
              "<Figure size 720x432 with 1 Axes>"
            ],
            "image/png": "[encoded data removed]"
          },
          "metadata": {}
        }
      ]
    },
    {
      "cell_type": "markdown",
      "source": [
        "Here, we see that Aviation industry have the minimum number of days on the waiting list. The reason for this might be that when a flight has to be land at the location, it has to provide immediate accomodation to all of its working staff like Pilots, Air hostages etc. so they do not entertain hotels which put them on a waiting list for too long. So, in general, the hotel management sees that there needs are met immediately and provide rooms to them with almost 0 days on the waiting list."
      ],
      "metadata": {
        "id": "4rQMNz24bpad"
      }
    },
    {
      "cell_type": "markdown",
      "source": [
        "**Distribution channel and the Days on waiting list**"
      ],
      "metadata": {
        "id": "0_7E7C9Bc2_0"
      }
    },
    {
      "cell_type": "code",
      "source": [
        "fig,ax = plt.subplots(figsize=(16,6))\n",
        "#plt.subplots() is a function that returns a tuple containing a figure and axes object(s). Thus when using fig, ax = plt.subplots\n",
        "ax.scatter(data['Distribution channel'], data['Days in waiting list'])\n",
        "ax.set_xlabel('Distribution channel')\n",
        "ax.set_ylabel('Days on waiting list')\n",
        "plt.show"
      ],
      "metadata": {
        "colab": {
          "base_uri": "https://localhost:8080/",
          "height": 411
        },
        "id": "n2Nr9WFy8OUj",
        "outputId": "c25e8c23-48e2-4a8a-f84e-85dcb81c4bd0"
      },
      "execution_count": null,
      "outputs": [
        {
          "output_type": "execute_result",
          "data": {
            "text/plain": [
              "<function matplotlib.pyplot.show>"
            ]
          },
          "metadata": {},
          "execution_count": 24
        },
        {
          "output_type": "display_data",
          "data": {
            "text/plain": [
              "<Figure size 1152x432 with 1 Axes>"
            ],
            "image/png": "[encoded data removed]"
          },
          "metadata": {}
        }
      ]
    },
    {
      "cell_type": "markdown",
      "source": [
        "We see that the 'Travel Agent' and 'Tour Operators' are the distribution channel for which the highest number of days are there on the waiting list."
      ],
      "metadata": {
        "id": "-8s7xjBzdGrK"
      }
    },
    {
      "cell_type": "markdown",
      "source": [
        "**Type of hotel and the number of bookings per month**"
      ],
      "metadata": {
        "id": "avd9Yce5d2tI"
      }
    },
    {
      "cell_type": "code",
      "source": [
        "data1=data.groupby(['Arrival date month','Hotel']).size()\n",
        "data1=data1.unstack()\n",
        "data1.plot(kind='bar')"
      ],
      "metadata": {
        "colab": {
          "base_uri": "https://localhost:8080/",
          "height": 353
        },
        "id": "RKtAkHfxW7j0",
        "outputId": "19efd488-88bf-46f9-bbdf-54a27ef45f68"
      },
      "execution_count": null,
      "outputs": [
        {
          "output_type": "execute_result",
          "data": {
            "text/plain": [
              "<matplotlib.axes._subplots.AxesSubplot at 0x7f5cb223a550>"
            ]
          },
          "metadata": {},
          "execution_count": 25
        },
        {
          "output_type": "display_data",
          "data": {
            "text/plain": [
              "<Figure size 432x288 with 1 Axes>"
            ],
            "image/png": "[encoded data removed]"
          },
          "metadata": {}
        }
      ]
    },
    {
      "cell_type": "markdown",
      "source": [
        "->We see that in the month of August, July and May, the number of bookings are highest in City hotels.\n",
        "\n",
        "->In Resort hotel as well, the highest number of bookings are in the month of August."
      ],
      "metadata": {
        "id": "XMVslgjFeCiN"
      }
    },
    {
      "cell_type": "markdown",
      "source": [
        "**Cancelation and the Hotel type**"
      ],
      "metadata": {
        "id": "XNNUN11wezcI"
      }
    },
    {
      "cell_type": "code",
      "source": [
        "data2=data.groupby(['Cancelled','Hotel']).size()\n",
        "data2=data2.unstack()\n",
        "data2.plot(kind='bar')"
      ],
      "metadata": {
        "colab": {
          "base_uri": "https://localhost:8080/",
          "height": 299
        },
        "id": "qDEF_Re0XmyC",
        "outputId": "01cf7276-23a2-4849-d2c7-9a8efbbb11e3"
      },
      "execution_count": null,
      "outputs": [
        {
          "output_type": "execute_result",
          "data": {
            "text/plain": [
              "<matplotlib.axes._subplots.AxesSubplot at 0x7f5cb4ebb790>"
            ]
          },
          "metadata": {},
          "execution_count": 26
        },
        {
          "output_type": "display_data",
          "data": {
            "text/plain": [
              "<Figure size 432x288 with 1 Axes>"
            ],
            "image/png": "[encoded data removed]"
          },
          "metadata": {}
        }
      ]
    },
    {
      "cell_type": "markdown",
      "source": [
        "**The Cancelation type and the Repeated guest**"
      ],
      "metadata": {
        "id": "iKzajT26fJuz"
      }
    },
    {
      "cell_type": "code",
      "source": [
        "data3=data.groupby(['Cancelled','Repeated guest']).size()\n",
        "#data3=data3.unstack()\n",
        "data3.plot(kind='bar')"
      ],
      "metadata": {
        "colab": {
          "base_uri": "https://localhost:8080/",
          "height": 321
        },
        "id": "9RAOn9rBa2M4",
        "outputId": "0c216dfa-40bc-46d1-f06f-5179fcb85f4b"
      },
      "execution_count": null,
      "outputs": [
        {
          "output_type": "execute_result",
          "data": {
            "text/plain": [
              "<matplotlib.axes._subplots.AxesSubplot at 0x7f5cb211e450>"
            ]
          },
          "metadata": {},
          "execution_count": 27
        },
        {
          "output_type": "display_data",
          "data": {
            "text/plain": [
              "<Figure size 432x288 with 1 Axes>"
            ],
            "image/png": "[encoded data removed]"
          },
          "metadata": {}
        }
      ]
    },
    {
      "cell_type": "markdown",
      "source": [
        "Here, we are comparing two important concepts that whether the hotel booking is cancelled and whether the customer is a repeated guest or not? \n",
        "\n",
        " We see that when the hotel booking is cancelled and the customer is a repeated guest, the entries are almost '0', which means that repeated guest is very less likely to cancel his booking with hotel"
      ],
      "metadata": {
        "id": "Ye9YCLmBfq3V"
      }
    },
    {
      "cell_type": "markdown",
      "source": [
        "**Type of Hotel and the Market Segment**"
      ],
      "metadata": {
        "id": "MBlsZ8gaik8l"
      }
    },
    {
      "cell_type": "code",
      "source": [
        "#fig, ax = plt.subplots(figsize=(16,6))\n",
        "data4=data.groupby(['Hotel','Market segment']).size()\n",
        "data4=data4.unstack()\n",
        "data4=data4.plot(kind='bar', figsize=(10,5))"
      ],
      "metadata": {
        "id": "i_ERSIsbbZxV",
        "colab": {
          "base_uri": "https://localhost:8080/",
          "height": 398
        },
        "outputId": "34ec3c6f-a292-4342-9d64-4858fe5c5b80"
      },
      "execution_count": null,
      "outputs": [
        {
          "output_type": "display_data",
          "data": {
            "text/plain": [
              "<Figure size 720x360 with 1 Axes>"
            ],
            "image/png": "[encoded data removed]"
          },
          "metadata": {}
        }
      ]
    },
    {
      "cell_type": "markdown",
      "source": [
        "Here we see that in both the hotels, the maximum number of booking are bought by 'Online Travel Agents'."
      ],
      "metadata": {
        "id": "6TKA2z6rjbeD"
      }
    },
    {
      "cell_type": "markdown",
      "source": [
        "**Hotel type and the Distribution Channel**"
      ],
      "metadata": {
        "id": "EOujpMJlj7oq"
      }
    },
    {
      "cell_type": "code",
      "source": [
        "data5=data.groupby(['Hotel','Distribution channel']).size()\n",
        "data5=data5.unstack()\n",
        "data5.plot(kind='bar',figsize=(10,5))"
      ],
      "metadata": {
        "id": "vLmAaWIAd_0N",
        "colab": {
          "base_uri": "https://localhost:8080/",
          "height": 415
        },
        "outputId": "9761c5c6-a934-463a-a325-6529f31841f7"
      },
      "execution_count": null,
      "outputs": [
        {
          "output_type": "execute_result",
          "data": {
            "text/plain": [
              "<matplotlib.axes._subplots.AxesSubplot at 0x7f5cb1f97410>"
            ]
          },
          "metadata": {},
          "execution_count": 29
        },
        {
          "output_type": "display_data",
          "data": {
            "text/plain": [
              "<Figure size 720x360 with 1 Axes>"
            ],
            "image/png": "[encoded data removed]"
          },
          "metadata": {}
        }
      ]
    },
    {
      "cell_type": "markdown",
      "source": [
        "**Repeated guest and Customer type**"
      ],
      "metadata": {
        "id": "esm3Vg6tkc6q"
      }
    },
    {
      "cell_type": "code",
      "source": [
        "data6=data.groupby(['Repeated guest','Customer type']).size()\n",
        "data6=data6.unstack()\n",
        "data6.plot(kind='bar',figsize=(10,5))"
      ],
      "metadata": {
        "id": "HbIh2T1mfjpI",
        "colab": {
          "base_uri": "https://localhost:8080/",
          "height": 353
        },
        "outputId": "9d4a204f-754d-4bd9-a28d-6ecb11e6cee7"
      },
      "execution_count": null,
      "outputs": [
        {
          "output_type": "execute_result",
          "data": {
            "text/plain": [
              "<matplotlib.axes._subplots.AxesSubplot at 0x7f5cb1f520d0>"
            ]
          },
          "metadata": {},
          "execution_count": 30
        },
        {
          "output_type": "display_data",
          "data": {
            "text/plain": [
              "<Figure size 720x360 with 1 Axes>"
            ],
            "image/png": "[encoded data removed]"
          },
          "metadata": {}
        }
      ]
    },
    {
      "cell_type": "markdown",
      "source": [
        "Here, we can see that the maximum number of repeated guest are \"Transient type\" i.e the \"Short-time customers\""
      ],
      "metadata": {
        "id": "yX37G1K2koK4"
      }
    },
    {
      "cell_type": "markdown",
      "source": [
        "**Reservation statuas and Market segment**"
      ],
      "metadata": {
        "id": "5va72fdllkmW"
      }
    },
    {
      "cell_type": "code",
      "source": [
        "data7=data.groupby(['Reservation status','Market segment']).size()\n",
        "data7=data7.unstack()\n",
        "data7.plot(kind='bar',figsize=(10,5))"
      ],
      "metadata": {
        "id": "YjlTCmWSgOdc",
        "colab": {
          "base_uri": "https://localhost:8080/",
          "height": 408
        },
        "outputId": "aff7291d-9f91-45cc-fec5-62fa2d8f74fc"
      },
      "execution_count": null,
      "outputs": [
        {
          "output_type": "execute_result",
          "data": {
            "text/plain": [
              "<matplotlib.axes._subplots.AxesSubplot at 0x7f5cb1e745d0>"
            ]
          },
          "metadata": {},
          "execution_count": 31
        },
        {
          "output_type": "display_data",
          "data": {
            "text/plain": [
              "<Figure size 720x360 with 1 Axes>"
            ],
            "image/png": "[encoded data removed]"
          },
          "metadata": {}
        }
      ]
    },
    {
      "cell_type": "markdown",
      "source": [
        "Here, we have plotted the reservation status of the booking with respect to the market segment. We see that most of the bookings either in the cancelled status or in the checkout status are done by the 'Online Travel Agents'."
      ],
      "metadata": {
        "id": "Q8HDbzXzlsHV"
      }
    },
    {
      "cell_type": "markdown",
      "source": [
        "**We have now grouped the data based on month**"
      ],
      "metadata": {
        "id": "c6C6YxEbmcJ1"
      }
    },
    {
      "cell_type": "code",
      "source": [
        "grp=data.groupby('Arrival date month')\n",
        "p=grp['Lead time'].agg(np.mean)\n",
        "q=grp['Stays in week nights'].agg(np.mean)\n",
        "r=grp['Stays in weekend nights'].agg(np.mean)\n",
        "s=grp['Booking changes'].agg(np.sum)\n",
        "t=grp['Days in waiting list'].agg(np.sum)\n",
        "u=grp['Average daily rate'].agg(np.mean)\n",
        "v=grp['Hotel'].agg(np.sum)\n",
        "print(p)\n",
        "print(q)\n",
        "print(r)\n",
        "print(s)\n",
        "print(t)\n",
        "print(u)\n",
        "print(v)"
      ],
      "metadata": {
        "colab": {
          "base_uri": "https://localhost:8080/"
        },
        "id": "ZpUDT2mlmS3U",
        "outputId": "190b8d54-f5c4-459c-cf21-65973719078b"
      },
      "execution_count": null,
      "outputs": [
        {
          "output_type": "stream",
          "name": "stdout",
          "text": [
            "Arrival date month\n",
            "April         75.742447\n",
            "August       102.636728\n",
            "December      58.905944\n",
            "February      35.076923\n",
            "January       34.329201\n",
            "July         111.894249\n",
            "June         103.798915\n",
            "March         53.278415\n",
            "May           91.825559\n",
            "November      47.424754\n",
            "October       82.680990\n",
            "September     93.789513\n",
            "Name: Lead time, dtype: float64\n",
            "Arrival date month\n",
            "April        2.441483\n",
            "August       3.020296\n",
            "December     2.416308\n",
            "February     2.283695\n",
            "January      2.331979\n",
            "July         3.003588\n",
            "June         2.810926\n",
            "March        2.530683\n",
            "May          2.513345\n",
            "November     2.477597\n",
            "October      2.353877\n",
            "September    2.710337\n",
            "Name: Stays in week nights, dtype: float64\n",
            "Arrival date month\n",
            "April        1.001269\n",
            "August       1.147588\n",
            "December     0.894408\n",
            "February     0.921598\n",
            "January      0.841171\n",
            "July         1.209409\n",
            "June         1.043652\n",
            "March        0.861660\n",
            "May          0.963573\n",
            "November     0.851115\n",
            "October      0.963542\n",
            "September    1.069111\n",
            "Name: Stays in weekend nights, dtype: float64\n",
            "Arrival date month\n",
            "April        2177\n",
            "August       3346\n",
            "December     1448\n",
            "February     1446\n",
            "January      1347\n",
            "July         2522\n",
            "June         1962\n",
            "March        1912\n",
            "May          2313\n",
            "November     1490\n",
            "October      1902\n",
            "September    1856\n",
            "Name: Booking changes, dtype: int64\n",
            "Arrival date month\n",
            "April         8801\n",
            "August        2197\n",
            "December      5108\n",
            "February      1202\n",
            "January       4350\n",
            "July           991\n",
            "June          3858\n",
            "March         2934\n",
            "May          10125\n",
            "November      3147\n",
            "October      11779\n",
            "September     9272\n",
            "Name: Days in waiting list, dtype: int64\n",
            "Arrival date month\n",
            "April        103.658180\n",
            "August       150.884891\n",
            "December      81.470287\n",
            "February      74.705575\n",
            "January       70.085735\n",
            "July         135.602575\n",
            "June         119.782313\n",
            "March         81.611734\n",
            "May          111.237638\n",
            "November      72.802608\n",
            "October       90.124423\n",
            "September    112.083598\n",
            "Name: Average daily rate, dtype: float64\n",
            "Arrival date month\n",
            "April        Resort HotelResort HotelResort HotelResort Hot...\n",
            "August       Resort HotelResort HotelResort HotelResort Hot...\n",
            "December     Resort HotelResort HotelResort HotelResort Hot...\n",
            "February     Resort HotelResort HotelResort HotelResort Hot...\n",
            "January      Resort HotelResort HotelResort HotelResort Hot...\n",
            "July         Resort HotelResort HotelResort HotelResort Hot...\n",
            "June         Resort HotelResort HotelResort HotelResort Hot...\n",
            "March        Resort HotelResort HotelResort HotelResort Hot...\n",
            "May          Resort HotelResort HotelResort HotelResort Hot...\n",
            "November     Resort HotelResort HotelResort HotelResort Hot...\n",
            "October      Resort HotelResort HotelResort HotelResort Hot...\n",
            "September    Resort HotelResort HotelResort HotelResort Hot...\n",
            "Name: Hotel, dtype: object\n"
          ]
        }
      ]
    },
    {
      "cell_type": "markdown",
      "source": [
        "**Month of the year Vs Lead time**"
      ],
      "metadata": {
        "id": "vpCGes4ZmqHq"
      }
    },
    {
      "cell_type": "code",
      "source": [
        "plt.figure(figsize=(16,5))\n",
        "plt.plot(p,'ro',color='r')\n",
        "plt.xticks(rotation=90)\n",
        "plt.title('Month of the year vs Lead time',fontsize=15)\n",
        "plt.xlabel('Month of the year')\n",
        "plt.ylabel('Lead time')\n",
        "plt.show()"
      ],
      "metadata": {
        "id": "mfrvFGKAgzs6",
        "colab": {
          "base_uri": "https://localhost:8080/",
          "height": 409
        },
        "outputId": "d8ba1a80-0fa4-4084-afaf-7b7918b302f3"
      },
      "execution_count": null,
      "outputs": [
        {
          "output_type": "display_data",
          "data": {
            "text/plain": [
              "<Figure size 1152x360 with 1 Axes>"
            ],
            "image/png": "[encoded data removed]"
          },
          "metadata": {}
        }
      ]
    },
    {
      "cell_type": "markdown",
      "source": [
        "Here, we are comparing the month of the year with the lead time. We see in the month of July the lead time is the highest."
      ],
      "metadata": {
        "id": "sfPnSi0hokrs"
      }
    },
    {
      "cell_type": "markdown",
      "source": [
        "**Month of the year Vs Stays on week nights**"
      ],
      "metadata": {
        "id": "MmJHcyhMnTt6"
      }
    },
    {
      "cell_type": "code",
      "source": [
        "plt.figure(figsize=(16,5))\n",
        "plt.plot(q,'ro',color='r')\n",
        "plt.xticks(rotation=90)\n",
        "plt.title('Month of the year vs Stays on week nights',fontsize=15)\n",
        "plt.xlabel('Month of the Year')\n",
        "plt.ylabel('Week night')\n",
        "plt.show()"
      ],
      "metadata": {
        "id": "V1kFI3Leh8XQ",
        "colab": {
          "base_uri": "https://localhost:8080/",
          "height": 409
        },
        "outputId": "f9cce204-0abb-41d4-87aa-caa65d1fecb5"
      },
      "execution_count": null,
      "outputs": [
        {
          "output_type": "display_data",
          "data": {
            "text/plain": [
              "<Figure size 1152x360 with 1 Axes>"
            ],
            "image/png": "[encoded data removed]"
          },
          "metadata": {}
        }
      ]
    },
    {
      "cell_type": "markdown",
      "source": [
        "**Month of the year Vs Stays on weekend nights**"
      ],
      "metadata": {
        "id": "ITKYRlJpnmNu"
      }
    },
    {
      "cell_type": "code",
      "source": [
        "plt.figure(figsize=(16,5))\n",
        "plt.plot(r,'ro',color='r')\n",
        "plt.xticks(rotation=90)\n",
        "plt.title('Month of the year vs Stays on weekend night',fontsize=15)\n",
        "plt.xlabel('Month of the year')\n",
        "plt.ylabel('Weekend nights')\n",
        "plt.show()"
      ],
      "metadata": {
        "id": "X2Hb-vMPt9wA",
        "colab": {
          "base_uri": "https://localhost:8080/",
          "height": 409
        },
        "outputId": "8b5ca367-e3ed-424e-f07e-f404af5f8a19"
      },
      "execution_count": null,
      "outputs": [
        {
          "output_type": "display_data",
          "data": {
            "text/plain": [
              "<Figure size 1152x360 with 1 Axes>"
            ],
            "image/png": "[encoded data removed]"
          },
          "metadata": {}
        }
      ]
    },
    {
      "cell_type": "markdown",
      "source": [
        "**Month of the year Vs Booking changes**"
      ],
      "metadata": {
        "id": "sFNRC_L9nwis"
      }
    },
    {
      "cell_type": "code",
      "source": [
        "plt.figure(figsize=(16,5))\n",
        "plt.plot(s,'ro',color='r')\n",
        "plt.xticks(rotation=90)\n",
        "plt.title('Month of the year vs Booking changes',fontsize=15)\n",
        "plt.xlabel('Month of the year')\n",
        "plt.ylabel('Booking changes')\n",
        "plt.show()"
      ],
      "metadata": {
        "id": "bSdJ-2CVutKr",
        "colab": {
          "base_uri": "https://localhost:8080/",
          "height": 409
        },
        "outputId": "9348c5a0-b2bc-4496-d191-e7cb089de750"
      },
      "execution_count": null,
      "outputs": [
        {
          "output_type": "display_data",
          "data": {
            "text/plain": [
              "<Figure size 1152x360 with 1 Axes>"
            ],
            "image/png": "[encoded data removed]"
          },
          "metadata": {}
        }
      ]
    },
    {
      "cell_type": "markdown",
      "source": [
        "Here, we have compared the Booking changes to the every month of the year. We see that August has the lot of booking changes and it is accompanied by July, May, June, April etc."
      ],
      "metadata": {
        "id": "VJsjV0lmrRax"
      }
    },
    {
      "cell_type": "markdown",
      "source": [
        "**Month of the year Vs Days in waiting list**"
      ],
      "metadata": {
        "id": "O5njSQG0n_To"
      }
    },
    {
      "cell_type": "code",
      "source": [
        "plt.figure(figsize=(16,5))\n",
        "plt.plot(s,'ro',color='r')\n",
        "plt.xticks(rotation=90)\n",
        "plt.title('Month of the year vs Days in waiting list',fontsize=15)\n",
        "plt.xlabel('Month of the year')\n",
        "plt.ylabel('Days in waiting list')\n",
        "plt.show()"
      ],
      "metadata": {
        "id": "N4hBZYIVvia3",
        "colab": {
          "base_uri": "https://localhost:8080/",
          "height": 409
        },
        "outputId": "87262547-a9be-4c83-9a17-2ae8a669ac70"
      },
      "execution_count": null,
      "outputs": [
        {
          "output_type": "display_data",
          "data": {
            "text/plain": [
              "<Figure size 1152x360 with 1 Axes>"
            ],
            "image/png": "[encoded data removed]"
          },
          "metadata": {}
        }
      ]
    },
    {
      "cell_type": "markdown",
      "source": [
        "Now, this is again a important visualisation concept. Here, we have tried to visualise the two important factors i.e 'the days in the waiting list' and 'the month of the year'. So, in general the no. of bookings are highest in the months of August and July as we have seen before. We see that in August, the no. of days in waiting list is more, which means that a customer has to wait for a longer time. This can likely be a situation for the previous month but it had been on the waiting list and then the booking was confirmed in August."
      ],
      "metadata": {
        "id": "B-rULZk-shhb"
      }
    },
    {
      "cell_type": "markdown",
      "source": [
        "**Heatmap**"
      ],
      "metadata": {
        "id": "g7zUzVA1u9Xl"
      }
    },
    {
      "cell_type": "code",
      "source": [
        "# Finding the relations between the variables.\n",
        "plt.figure(figsize=(20,10))\n",
        "c= data.corr()\n",
        "sns.heatmap(c,cmap=\"coolwarm\",annot=True) #BrBG, RdGy, coolwarm\n",
        "c"
      ],
      "metadata": {
        "id": "d4Pk88VzvuKi",
        "colab": {
          "base_uri": "https://localhost:8080/",
          "height": 1000
        },
        "outputId": "1c8433d9-5e6c-42e6-acc2-9cfbd2b9f129"
      },
      "execution_count": null,
      "outputs": [
        {
          "output_type": "execute_result",
          "data": {
            "text/plain": [
              "                                Cancelled  Lead time  Arrival date year  \\\n",
              "Cancelled                        1.000000   0.182714           0.089126   \n",
              "Lead time                        0.182714   1.000000           0.139838   \n",
              "Arrival date year                0.089126   0.139838           1.000000   \n",
              "Arrival date day of month        0.005192   0.009653          -0.010167   \n",
              "Stays in weekend nights          0.060566   0.236123           0.005032   \n",
              "Stays in week nights             0.083310   0.311398           0.003226   \n",
              "Adults                           0.082041   0.140388           0.038371   \n",
              "Children                         0.068365   0.029310           0.041138   \n",
              "Babies                          -0.020537  -0.003362          -0.023074   \n",
              "Repeated guest                  -0.089189  -0.147075           0.024336   \n",
              "previous_cancellations           0.050873   0.004636          -0.053164   \n",
              "previous_bookings_not_canceled  -0.051874  -0.078958           0.027266   \n",
              "Booking changes                 -0.092700   0.077725           0.008384   \n",
              "Days in waiting list             0.001588   0.130107          -0.027547   \n",
              "Average daily rate               0.129278   0.024273           0.176169   \n",
              "Required car parking spaces     -0.183586  -0.086236          -0.039990   \n",
              "Total of special requests       -0.118698   0.035315           0.063869   \n",
              "\n",
              "                                Arrival date day of month  \\\n",
              "Cancelled                                        0.005192   \n",
              "Lead time                                        0.009653   \n",
              "Arrival date year                               -0.010167   \n",
              "Arrival date day of month                        1.000000   \n",
              "Stays in weekend nights                         -0.017401   \n",
              "Stays in week nights                            -0.028124   \n",
              "Adults                                          -0.001380   \n",
              "Children                                         0.015900   \n",
              "Babies                                          -0.000420   \n",
              "Repeated guest                                  -0.004122   \n",
              "previous_cancellations                          -0.008440   \n",
              "previous_bookings_not_canceled                   0.000154   \n",
              "Booking changes                                  0.006322   \n",
              "Days in waiting list                             0.005390   \n",
              "Average daily rate                               0.022246   \n",
              "Required car parking spaces                      0.009188   \n",
              "Total of special requests                       -0.001790   \n",
              "\n",
              "                                Stays in weekend nights  Stays in week nights  \\\n",
              "Cancelled                                      0.060566              0.083310   \n",
              "Lead time                                      0.236123              0.311398   \n",
              "Arrival date year                              0.005032              0.003226   \n",
              "Arrival date day of month                     -0.017401             -0.028124   \n",
              "Stays in weekend nights                        1.000000              0.555134   \n",
              "Stays in week nights                           0.555134              1.000000   \n",
              "Adults                                         0.088378              0.095682   \n",
              "Children                                       0.028538              0.030705   \n",
              "Babies                                         0.013788              0.016119   \n",
              "Repeated guest                                -0.107265             -0.113780   \n",
              "previous_cancellations                        -0.020916             -0.018925   \n",
              "previous_bookings_not_canceled                -0.056780             -0.058653   \n",
              "Booking changes                                0.050284              0.085058   \n",
              "Days in waiting list                          -0.031269              0.002113   \n",
              "Average daily rate                             0.039258              0.053810   \n",
              "Required car parking spaces                   -0.043059             -0.044433   \n",
              "Total of special requests                      0.032211              0.037802   \n",
              "\n",
              "                                  Adults  Children    Babies  Repeated guest  \\\n",
              "Cancelled                       0.082041  0.068365 -0.020537       -0.089189   \n",
              "Lead time                       0.140388  0.029310 -0.003362       -0.147075   \n",
              "Arrival date year               0.038371  0.041138 -0.023074        0.024336   \n",
              "Arrival date day of month      -0.001380  0.015900 -0.000420       -0.004122   \n",
              "Stays in weekend nights         0.088378  0.028538  0.013788       -0.107265   \n",
              "Stays in week nights            0.095682  0.030705  0.016119       -0.113780   \n",
              "Adults                          1.000000  0.023687  0.016625       -0.171953   \n",
              "Children                        0.023687  1.000000  0.017463       -0.045783   \n",
              "Babies                          0.016625  0.017463  1.000000       -0.013005   \n",
              "Repeated guest                 -0.171953 -0.045783 -0.013005        1.000000   \n",
              "previous_cancellations         -0.042186 -0.019057 -0.005342        0.206558   \n",
              "previous_bookings_not_canceled -0.121049 -0.029502 -0.009211        0.441493   \n",
              "Booking changes                -0.048114  0.031234  0.081138        0.005889   \n",
              "Days in waiting list           -0.016129 -0.020199 -0.006774       -0.012667   \n",
              "Average daily rate              0.248895  0.325981  0.023511       -0.153291   \n",
              "Required car parking spaces     0.007789  0.036208  0.030887        0.071873   \n",
              "Total of special requests       0.112850  0.044493  0.094915       -0.001598   \n",
              "\n",
              "                                previous_cancellations  \\\n",
              "Cancelled                                     0.050873   \n",
              "Lead time                                     0.004636   \n",
              "Arrival date year                            -0.053164   \n",
              "Arrival date day of month                    -0.008440   \n",
              "Stays in weekend nights                      -0.020916   \n",
              "Stays in week nights                         -0.018925   \n",
              "Adults                                       -0.042186   \n",
              "Children                                     -0.019057   \n",
              "Babies                                       -0.005342   \n",
              "Repeated guest                                0.206558   \n",
              "previous_cancellations                        1.000000   \n",
              "previous_bookings_not_canceled                0.392499   \n",
              "Booking changes                              -0.010166   \n",
              "Days in waiting list                          0.003950   \n",
              "Average daily rate                           -0.050053   \n",
              "Required car parking spaces                  -0.003257   \n",
              "Total of special requests                     0.002257   \n",
              "\n",
              "                                previous_bookings_not_canceled  \\\n",
              "Cancelled                                            -0.051874   \n",
              "Lead time                                            -0.078958   \n",
              "Arrival date year                                     0.027266   \n",
              "Arrival date day of month                             0.000154   \n",
              "Stays in weekend nights                              -0.056780   \n",
              "Stays in week nights                                 -0.058653   \n",
              "Adults                                               -0.121049   \n",
              "Children                                             -0.029502   \n",
              "Babies                                               -0.009211   \n",
              "Repeated guest                                        0.441493   \n",
              "previous_cancellations                                0.392499   \n",
              "previous_bookings_not_canceled                        1.000000   \n",
              "Booking changes                                       0.005326   \n",
              "Days in waiting list                                 -0.006219   \n",
              "Average daily rate                                   -0.085867   \n",
              "Required car parking spaces                           0.040779   \n",
              "Total of special requests                             0.026975   \n",
              "\n",
              "                                Booking changes  Days in waiting list  \\\n",
              "Cancelled                             -0.092700              0.001588   \n",
              "Lead time                              0.077725              0.130107   \n",
              "Arrival date year                      0.008384             -0.027547   \n",
              "Arrival date day of month              0.006322              0.005390   \n",
              "Stays in weekend nights                0.050284             -0.031269   \n",
              "Stays in week nights                   0.085058              0.002113   \n",
              "Adults                                -0.048114             -0.016129   \n",
              "Children                               0.031234             -0.020199   \n",
              "Babies                                 0.081138             -0.006774   \n",
              "Repeated guest                         0.005889             -0.012667   \n",
              "previous_cancellations                -0.010166              0.003950   \n",
              "previous_bookings_not_canceled         0.005326             -0.006219   \n",
              "Booking changes                        1.000000              0.024999   \n",
              "Days in waiting list                   0.024999              1.000000   \n",
              "Average daily rate                     0.002368             -0.032726   \n",
              "Required car parking spaces            0.048476             -0.015802   \n",
              "Total of special requests              0.015658             -0.048852   \n",
              "\n",
              "                                Average daily rate  \\\n",
              "Cancelled                                 0.129278   \n",
              "Lead time                                 0.024273   \n",
              "Arrival date year                         0.176169   \n",
              "Arrival date day of month                 0.022246   \n",
              "Stays in weekend nights                   0.039258   \n",
              "Stays in week nights                      0.053810   \n",
              "Adults                                    0.248895   \n",
              "Children                                  0.325981   \n",
              "Babies                                    0.023511   \n",
              "Repeated guest                           -0.153291   \n",
              "previous_cancellations                   -0.050053   \n",
              "previous_bookings_not_canceled           -0.085867   \n",
              "Booking changes                           0.002368   \n",
              "Days in waiting list                     -0.032726   \n",
              "Average daily rate                        1.000000   \n",
              "Required car parking spaces               0.039003   \n",
              "Total of special requests                 0.137704   \n",
              "\n",
              "                                Required car parking spaces  \\\n",
              "Cancelled                                         -0.183586   \n",
              "Lead time                                         -0.086236   \n",
              "Arrival date year                                 -0.039990   \n",
              "Arrival date day of month                          0.009188   \n",
              "Stays in weekend nights                           -0.043059   \n",
              "Stays in week nights                              -0.044433   \n",
              "Adults                                             0.007789   \n",
              "Children                                           0.036208   \n",
              "Babies                                             0.030887   \n",
              "Repeated guest                                     0.071873   \n",
              "previous_cancellations                            -0.003257   \n",
              "previous_bookings_not_canceled                     0.040779   \n",
              "Booking changes                                    0.048476   \n",
              "Days in waiting list                              -0.015802   \n",
              "Average daily rate                                 0.039003   \n",
              "Required car parking spaces                        1.000000   \n",
              "Total of special requests                          0.048038   \n",
              "\n",
              "                                Total of special requests  \n",
              "Cancelled                                       -0.118698  \n",
              "Lead time                                        0.035315  \n",
              "Arrival date year                                0.063869  \n",
              "Arrival date day of month                       -0.001790  \n",
              "Stays in weekend nights                          0.032211  \n",
              "Stays in week nights                             0.037802  \n",
              "Adults                                           0.112850  \n",
              "Children                                         0.044493  \n",
              "Babies                                           0.094915  \n",
              "Repeated guest                                  -0.001598  \n",
              "previous_cancellations                           0.002257  \n",
              "previous_bookings_not_canceled                   0.026975  \n",
              "Booking changes                                  0.015658  \n",
              "Days in waiting list                            -0.048852  \n",
              "Average daily rate                               0.137704  \n",
              "Required car parking spaces                      0.048038  \n",
              "Total of special requests                        1.000000  "
            ],
            "text/html": [
              "\n",
              "  <div id=\"df-6310b1d3-3cba-4eab-ae9e-305dfce4f9e4\">\n",
              "    <div class=\"colab-df-container\">\n",
              "      <div>\n",
              "<style scoped>\n",
              "    .dataframe tbody tr th:only-of-type {\n",
              "        vertical-align: middle;\n",
              "    }\n",
              "\n",
              "    .dataframe tbody tr th {\n",
              "        vertical-align: top;\n",
              "    }\n",
              "\n",
              "    .dataframe thead th {\n",
              "        text-align: right;\n",
              "    }\n",
              "</style>\n",
              "<table border=\"1\" class=\"dataframe\">\n",
              "  <thead>\n",
              "    <tr style=\"text-align: right;\">\n",
              "      <th></th>\n",
              "      <th>Cancelled</th>\n",
              "      <th>Lead time</th>\n",
              "      <th>Arrival date year</th>\n",
              "      <th>Arrival date day of month</th>\n",
              "      <th>Stays in weekend nights</th>\n",
              "      <th>Stays in week nights</th>\n",
              "      <th>Adults</th>\n",
              "      <th>Children</th>\n",
              "      <th>Babies</th>\n",
              "      <th>Repeated guest</th>\n",
              "      <th>previous_cancellations</th>\n",
              "      <th>previous_bookings_not_canceled</th>\n",
              "      <th>Booking changes</th>\n",
              "      <th>Days in waiting list</th>\n",
              "      <th>Average daily rate</th>\n",
              "      <th>Required car parking spaces</th>\n",
              "      <th>Total of special requests</th>\n",
              "    </tr>\n",
              "  </thead>\n",
              "  <tbody>\n",
              "    <tr>\n",
              "      <th>Cancelled</th>\n",
              "      <td>1.000000</td>\n",
              "      <td>0.182714</td>\n",
              "      <td>0.089126</td>\n",
              "      <td>0.005192</td>\n",
              "      <td>0.060566</td>\n",
              "      <td>0.083310</td>\n",
              "      <td>0.082041</td>\n",
              "      <td>0.068365</td>\n",
              "      <td>-0.020537</td>\n",
              "      <td>-0.089189</td>\n",
              "      <td>0.050873</td>\n",
              "      <td>-0.051874</td>\n",
              "      <td>-0.092700</td>\n",
              "      <td>0.001588</td>\n",
              "      <td>0.129278</td>\n",
              "      <td>-0.183586</td>\n",
              "      <td>-0.118698</td>\n",
              "    </tr>\n",
              "    <tr>\n",
              "      <th>Lead time</th>\n",
              "      <td>0.182714</td>\n",
              "      <td>1.000000</td>\n",
              "      <td>0.139838</td>\n",
              "      <td>0.009653</td>\n",
              "      <td>0.236123</td>\n",
              "      <td>0.311398</td>\n",
              "      <td>0.140388</td>\n",
              "      <td>0.029310</td>\n",
              "      <td>-0.003362</td>\n",
              "      <td>-0.147075</td>\n",
              "      <td>0.004636</td>\n",
              "      <td>-0.078958</td>\n",
              "      <td>0.077725</td>\n",
              "      <td>0.130107</td>\n",
              "      <td>0.024273</td>\n",
              "      <td>-0.086236</td>\n",
              "      <td>0.035315</td>\n",
              "    </tr>\n",
              "    <tr>\n",
              "      <th>Arrival date year</th>\n",
              "      <td>0.089126</td>\n",
              "      <td>0.139838</td>\n",
              "      <td>1.000000</td>\n",
              "      <td>-0.010167</td>\n",
              "      <td>0.005032</td>\n",
              "      <td>0.003226</td>\n",
              "      <td>0.038371</td>\n",
              "      <td>0.041138</td>\n",
              "      <td>-0.023074</td>\n",
              "      <td>0.024336</td>\n",
              "      <td>-0.053164</td>\n",
              "      <td>0.027266</td>\n",
              "      <td>0.008384</td>\n",
              "      <td>-0.027547</td>\n",
              "      <td>0.176169</td>\n",
              "      <td>-0.039990</td>\n",
              "      <td>0.063869</td>\n",
              "    </tr>\n",
              "    <tr>\n",
              "      <th>Arrival date day of month</th>\n",
              "      <td>0.005192</td>\n",
              "      <td>0.009653</td>\n",
              "      <td>-0.010167</td>\n",
              "      <td>1.000000</td>\n",
              "      <td>-0.017401</td>\n",
              "      <td>-0.028124</td>\n",
              "      <td>-0.001380</td>\n",
              "      <td>0.015900</td>\n",
              "      <td>-0.000420</td>\n",
              "      <td>-0.004122</td>\n",
              "      <td>-0.008440</td>\n",
              "      <td>0.000154</td>\n",
              "      <td>0.006322</td>\n",
              "      <td>0.005390</td>\n",
              "      <td>0.022246</td>\n",
              "      <td>0.009188</td>\n",
              "      <td>-0.001790</td>\n",
              "    </tr>\n",
              "    <tr>\n",
              "      <th>Stays in weekend nights</th>\n",
              "      <td>0.060566</td>\n",
              "      <td>0.236123</td>\n",
              "      <td>0.005032</td>\n",
              "      <td>-0.017401</td>\n",
              "      <td>1.000000</td>\n",
              "      <td>0.555134</td>\n",
              "      <td>0.088378</td>\n",
              "      <td>0.028538</td>\n",
              "      <td>0.013788</td>\n",
              "      <td>-0.107265</td>\n",
              "      <td>-0.020916</td>\n",
              "      <td>-0.056780</td>\n",
              "      <td>0.050284</td>\n",
              "      <td>-0.031269</td>\n",
              "      <td>0.039258</td>\n",
              "      <td>-0.043059</td>\n",
              "      <td>0.032211</td>\n",
              "    </tr>\n",
              "    <tr>\n",
              "      <th>Stays in week nights</th>\n",
              "      <td>0.083310</td>\n",
              "      <td>0.311398</td>\n",
              "      <td>0.003226</td>\n",
              "      <td>-0.028124</td>\n",
              "      <td>0.555134</td>\n",
              "      <td>1.000000</td>\n",
              "      <td>0.095682</td>\n",
              "      <td>0.030705</td>\n",
              "      <td>0.016119</td>\n",
              "      <td>-0.113780</td>\n",
              "      <td>-0.018925</td>\n",
              "      <td>-0.058653</td>\n",
              "      <td>0.085058</td>\n",
              "      <td>0.002113</td>\n",
              "      <td>0.053810</td>\n",
              "      <td>-0.044433</td>\n",
              "      <td>0.037802</td>\n",
              "    </tr>\n",
              "    <tr>\n",
              "      <th>Adults</th>\n",
              "      <td>0.082041</td>\n",
              "      <td>0.140388</td>\n",
              "      <td>0.038371</td>\n",
              "      <td>-0.001380</td>\n",
              "      <td>0.088378</td>\n",
              "      <td>0.095682</td>\n",
              "      <td>1.000000</td>\n",
              "      <td>0.023687</td>\n",
              "      <td>0.016625</td>\n",
              "      <td>-0.171953</td>\n",
              "      <td>-0.042186</td>\n",
              "      <td>-0.121049</td>\n",
              "      <td>-0.048114</td>\n",
              "      <td>-0.016129</td>\n",
              "      <td>0.248895</td>\n",
              "      <td>0.007789</td>\n",
              "      <td>0.112850</td>\n",
              "    </tr>\n",
              "    <tr>\n",
              "      <th>Children</th>\n",
              "      <td>0.068365</td>\n",
              "      <td>0.029310</td>\n",
              "      <td>0.041138</td>\n",
              "      <td>0.015900</td>\n",
              "      <td>0.028538</td>\n",
              "      <td>0.030705</td>\n",
              "      <td>0.023687</td>\n",
              "      <td>1.000000</td>\n",
              "      <td>0.017463</td>\n",
              "      <td>-0.045783</td>\n",
              "      <td>-0.019057</td>\n",
              "      <td>-0.029502</td>\n",
              "      <td>0.031234</td>\n",
              "      <td>-0.020199</td>\n",
              "      <td>0.325981</td>\n",
              "      <td>0.036208</td>\n",
              "      <td>0.044493</td>\n",
              "    </tr>\n",
              "    <tr>\n",
              "      <th>Babies</th>\n",
              "      <td>-0.020537</td>\n",
              "      <td>-0.003362</td>\n",
              "      <td>-0.023074</td>\n",
              "      <td>-0.000420</td>\n",
              "      <td>0.013788</td>\n",
              "      <td>0.016119</td>\n",
              "      <td>0.016625</td>\n",
              "      <td>0.017463</td>\n",
              "      <td>1.000000</td>\n",
              "      <td>-0.013005</td>\n",
              "      <td>-0.005342</td>\n",
              "      <td>-0.009211</td>\n",
              "      <td>0.081138</td>\n",
              "      <td>-0.006774</td>\n",
              "      <td>0.023511</td>\n",
              "      <td>0.030887</td>\n",
              "      <td>0.094915</td>\n",
              "    </tr>\n",
              "    <tr>\n",
              "      <th>Repeated guest</th>\n",
              "      <td>-0.089189</td>\n",
              "      <td>-0.147075</td>\n",
              "      <td>0.024336</td>\n",
              "      <td>-0.004122</td>\n",
              "      <td>-0.107265</td>\n",
              "      <td>-0.113780</td>\n",
              "      <td>-0.171953</td>\n",
              "      <td>-0.045783</td>\n",
              "      <td>-0.013005</td>\n",
              "      <td>1.000000</td>\n",
              "      <td>0.206558</td>\n",
              "      <td>0.441493</td>\n",
              "      <td>0.005889</td>\n",
              "      <td>-0.012667</td>\n",
              "      <td>-0.153291</td>\n",
              "      <td>0.071873</td>\n",
              "      <td>-0.001598</td>\n",
              "    </tr>\n",
              "    <tr>\n",
              "      <th>previous_cancellations</th>\n",
              "      <td>0.050873</td>\n",
              "      <td>0.004636</td>\n",
              "      <td>-0.053164</td>\n",
              "      <td>-0.008440</td>\n",
              "      <td>-0.020916</td>\n",
              "      <td>-0.018925</td>\n",
              "      <td>-0.042186</td>\n",
              "      <td>-0.019057</td>\n",
              "      <td>-0.005342</td>\n",
              "      <td>0.206558</td>\n",
              "      <td>1.000000</td>\n",
              "      <td>0.392499</td>\n",
              "      <td>-0.010166</td>\n",
              "      <td>0.003950</td>\n",
              "      <td>-0.050053</td>\n",
              "      <td>-0.003257</td>\n",
              "      <td>0.002257</td>\n",
              "    </tr>\n",
              "    <tr>\n",
              "      <th>previous_bookings_not_canceled</th>\n",
              "      <td>-0.051874</td>\n",
              "      <td>-0.078958</td>\n",
              "      <td>0.027266</td>\n",
              "      <td>0.000154</td>\n",
              "      <td>-0.056780</td>\n",
              "      <td>-0.058653</td>\n",
              "      <td>-0.121049</td>\n",
              "      <td>-0.029502</td>\n",
              "      <td>-0.009211</td>\n",
              "      <td>0.441493</td>\n",
              "      <td>0.392499</td>\n",
              "      <td>1.000000</td>\n",
              "      <td>0.005326</td>\n",
              "      <td>-0.006219</td>\n",
              "      <td>-0.085867</td>\n",
              "      <td>0.040779</td>\n",
              "      <td>0.026975</td>\n",
              "    </tr>\n",
              "    <tr>\n",
              "      <th>Booking changes</th>\n",
              "      <td>-0.092700</td>\n",
              "      <td>0.077725</td>\n",
              "      <td>0.008384</td>\n",
              "      <td>0.006322</td>\n",
              "      <td>0.050284</td>\n",
              "      <td>0.085058</td>\n",
              "      <td>-0.048114</td>\n",
              "      <td>0.031234</td>\n",
              "      <td>0.081138</td>\n",
              "      <td>0.005889</td>\n",
              "      <td>-0.010166</td>\n",
              "      <td>0.005326</td>\n",
              "      <td>1.000000</td>\n",
              "      <td>0.024999</td>\n",
              "      <td>0.002368</td>\n",
              "      <td>0.048476</td>\n",
              "      <td>0.015658</td>\n",
              "    </tr>\n",
              "    <tr>\n",
              "      <th>Days in waiting list</th>\n",
              "      <td>0.001588</td>\n",
              "      <td>0.130107</td>\n",
              "      <td>-0.027547</td>\n",
              "      <td>0.005390</td>\n",
              "      <td>-0.031269</td>\n",
              "      <td>0.002113</td>\n",
              "      <td>-0.016129</td>\n",
              "      <td>-0.020199</td>\n",
              "      <td>-0.006774</td>\n",
              "      <td>-0.012667</td>\n",
              "      <td>0.003950</td>\n",
              "      <td>-0.006219</td>\n",
              "      <td>0.024999</td>\n",
              "      <td>1.000000</td>\n",
              "      <td>-0.032726</td>\n",
              "      <td>-0.015802</td>\n",
              "      <td>-0.048852</td>\n",
              "    </tr>\n",
              "    <tr>\n",
              "      <th>Average daily rate</th>\n",
              "      <td>0.129278</td>\n",
              "      <td>0.024273</td>\n",
              "      <td>0.176169</td>\n",
              "      <td>0.022246</td>\n",
              "      <td>0.039258</td>\n",
              "      <td>0.053810</td>\n",
              "      <td>0.248895</td>\n",
              "      <td>0.325981</td>\n",
              "      <td>0.023511</td>\n",
              "      <td>-0.153291</td>\n",
              "      <td>-0.050053</td>\n",
              "      <td>-0.085867</td>\n",
              "      <td>0.002368</td>\n",
              "      <td>-0.032726</td>\n",
              "      <td>1.000000</td>\n",
              "      <td>0.039003</td>\n",
              "      <td>0.137704</td>\n",
              "    </tr>\n",
              "    <tr>\n",
              "      <th>Required car parking spaces</th>\n",
              "      <td>-0.183586</td>\n",
              "      <td>-0.086236</td>\n",
              "      <td>-0.039990</td>\n",
              "      <td>0.009188</td>\n",
              "      <td>-0.043059</td>\n",
              "      <td>-0.044433</td>\n",
              "      <td>0.007789</td>\n",
              "      <td>0.036208</td>\n",
              "      <td>0.030887</td>\n",
              "      <td>0.071873</td>\n",
              "      <td>-0.003257</td>\n",
              "      <td>0.040779</td>\n",
              "      <td>0.048476</td>\n",
              "      <td>-0.015802</td>\n",
              "      <td>0.039003</td>\n",
              "      <td>1.000000</td>\n",
              "      <td>0.048038</td>\n",
              "    </tr>\n",
              "    <tr>\n",
              "      <th>Total of special requests</th>\n",
              "      <td>-0.118698</td>\n",
              "      <td>0.035315</td>\n",
              "      <td>0.063869</td>\n",
              "      <td>-0.001790</td>\n",
              "      <td>0.032211</td>\n",
              "      <td>0.037802</td>\n",
              "      <td>0.112850</td>\n",
              "      <td>0.044493</td>\n",
              "      <td>0.094915</td>\n",
              "      <td>-0.001598</td>\n",
              "      <td>0.002257</td>\n",
              "      <td>0.026975</td>\n",
              "      <td>0.015658</td>\n",
              "      <td>-0.048852</td>\n",
              "      <td>0.137704</td>\n",
              "      <td>0.048038</td>\n",
              "      <td>1.000000</td>\n",
              "    </tr>\n",
              "  </tbody>\n",
              "</table>\n",
              "</div>\n",
              "      <button class=\"colab-df-convert\" onclick=\"convertToInteractive('df-6310b1d3-3cba-4eab-ae9e-305dfce4f9e4')\"\n",
              "              title=\"Convert this dataframe to an interactive table.\"\n",
              "              style=\"display:none;\">\n",
              "        \n",
              "  <svg xmlns=\"http://www.w3.org/2000/svg\" height=\"24px\"viewBox=\"0 0 24 24\"\n",
              "       width=\"24px\">\n",
              "    <path d=\"M0 0h24v24H0V0z\" fill=\"none\"/>\n",
              "    <path d=\"M18.56 5.44l.94 2.06.94-2.06 2.06-.94-2.06-.94-.94-2.06-.94 2.06-2.06.94zm-11 1L8.5 8.5l.94-2.06 2.06-.94-2.06-.94L8.5 2.5l-.94 2.06-2.06.94zm10 10l.94 2.06.94-2.06 2.06-.94-2.06-.94-.94-2.06-.94 2.06-2.06.94z\"/><path d=\"M17.41 7.96l-1.37-1.37c-.4-.4-.92-.59-1.43-.59-.52 0-1.04.2-1.43.59L10.3 9.45l-7.72 7.72c-.78.78-.78 2.05 0 2.83L4 21.41c.39.39.9.59 1.41.59.51 0 1.02-.2 1.41-.59l7.78-7.78 2.81-2.81c.8-.78.8-2.07 0-2.86zM5.41 20L4 18.59l7.72-7.72 1.47 1.35L5.41 20z\"/>\n",
              "  </svg>\n",
              "      </button>\n",
              "      \n",
              "  <style>\n",
              "    .colab-df-container {\n",
              "      display:flex;\n",
              "      flex-wrap:wrap;\n",
              "      gap: 12px;\n",
              "    }\n",
              "\n",
              "    .colab-df-convert {\n",
              "      background-color: #E8F0FE;\n",
              "      border: none;\n",
              "      border-radius: 50%;\n",
              "      cursor: pointer;\n",
              "      display: none;\n",
              "      fill: #1967D2;\n",
              "      height: 32px;\n",
              "      padding: 0 0 0 0;\n",
              "      width: 32px;\n",
              "    }\n",
              "\n",
              "    .colab-df-convert:hover {\n",
              "      background-color: #E2EBFA;\n",
              "      box-shadow: 0px 1px 2px rgba(60, 64, 67, 0.3), 0px 1px 3px 1px rgba(60, 64, 67, 0.15);\n",
              "      fill: #174EA6;\n",
              "    }\n",
              "\n",
              "    [theme=dark] .colab-df-convert {\n",
              "      background-color: #3B4455;\n",
              "      fill: #D2E3FC;\n",
              "    }\n",
              "\n",
              "    [theme=dark] .colab-df-convert:hover {\n",
              "      background-color: #434B5C;\n",
              "      box-shadow: 0px 1px 3px 1px rgba(0, 0, 0, 0.15);\n",
              "      filter: drop-shadow(0px 1px 2px rgba(0, 0, 0, 0.3));\n",
              "      fill: #FFFFFF;\n",
              "    }\n",
              "  </style>\n",
              "\n",
              "      <script>\n",
              "        const buttonEl =\n",
              "          document.querySelector('#df-6310b1d3-3cba-4eab-ae9e-305dfce4f9e4 button.colab-df-convert');\n",
              "        buttonEl.style.display =\n",
              "          google.colab.kernel.accessAllowed ? 'block' : 'none';\n",
              "\n",
              "        async function convertToInteractive(key) {\n",
              "          const element = document.querySelector('#df-6310b1d3-3cba-4eab-ae9e-305dfce4f9e4');\n",
              "          const dataTable =\n",
              "            await google.colab.kernel.invokeFunction('convertToInteractive',\n",
              "                                                     [key], {});\n",
              "          if (!dataTable) return;\n",
              "\n",
              "          const docLinkHtml = 'Like what you see? Visit the ' +\n",
              "            '<a target=\"_blank\" href=https://colab.research.google.com/notebooks/data_table.ipynb>data table notebook</a>'\n",
              "            + ' to learn more about interactive tables.';\n",
              "          element.innerHTML = '';\n",
              "          dataTable['output_type'] = 'display_data';\n",
              "          await google.colab.output.renderOutput(dataTable, element);\n",
              "          const docLink = document.createElement('div');\n",
              "          docLink.innerHTML = docLinkHtml;\n",
              "          element.appendChild(docLink);\n",
              "        }\n",
              "      </script>\n",
              "    </div>\n",
              "  </div>\n",
              "  "
            ]
          },
          "metadata": {},
          "execution_count": 42
        },
        {
          "output_type": "display_data",
          "data": {
            "text/plain": [
              "<Figure size 1440x720 with 2 Axes>"
            ],
            "image/png": "[encoded data removed]"
          },
          "metadata": {}
        }
      ]
    },
    {
      "cell_type": "markdown",
      "source": [
        "Now, I have tried to give a heatmap for the entire dataset i.e I have tried to give this heatmap to understand the relation between the various column in dataset."
      ],
      "metadata": {
        "id": "EHsRw6_QvvIA"
      }
    },
    {
      "cell_type": "markdown",
      "source": [
        "#**Data** **Modeling**"
      ],
      "metadata": {
        "id": "h21P2-lr0dpd"
      }
    },
    {
      "cell_type": "markdown",
      "source": [
        "Now, let us go to Data Modeling. we are again just checking the shape of our dataset i.e how many number of rows & columns we have? "
      ],
      "metadata": {
        "id": "O3MPHDZQyoUM"
      }
    },
    {
      "cell_type": "code",
      "source": [
        "data.shape"
      ],
      "metadata": {
        "id": "mefWILJE0i1N",
        "colab": {
          "base_uri": "https://localhost:8080/"
        },
        "outputId": "e7c56321-961b-420c-b188-b208994ec34a"
      },
      "execution_count": null,
      "outputs": [
        {
          "output_type": "execute_result",
          "data": {
            "text/plain": [
              "(87123, 28)"
            ]
          },
          "metadata": {},
          "execution_count": 43
        }
      ]
    },
    {
      "cell_type": "markdown",
      "source": [
        "We are still left with 87123 rows & 28 columns. \n",
        "\n",
        "For data modeling, we are trying to use only those rows in the dataset which have cancelled the booking. We are not including the rows which have not cancelled in order to make the modeling easier."
      ],
      "metadata": {
        "id": "biTgIFhJzG-n"
      }
    },
    {
      "cell_type": "code",
      "source": [
        "# Cancelations\n",
        "total_cancellations = data[\"Cancelled\"].sum()\n",
        "print(total_cancellations)\n",
        "resort_hotel_cancelations = data.loc[data[\"Hotel\"] == \"Resort Hotel\"][\"Cancelled\"].sum()\n",
        "print(resort_hotel_cancelations)\n",
        "city_hotel_cancelations = data.loc[data[\"Hotel\"] == \"City Hotel\"][\"Cancelled\"].sum()\n",
        "print(city_hotel_cancelations)"
      ],
      "metadata": {
        "id": "AniK2oZz0maK",
        "colab": {
          "base_uri": "https://localhost:8080/"
        },
        "outputId": "55cc8b88-ea88-4b1b-88e8-72ee4234b548"
      },
      "execution_count": null,
      "outputs": [
        {
          "output_type": "stream",
          "name": "stdout",
          "text": [
            "23774\n",
            "7891\n",
            "15883\n"
          ]
        }
      ]
    },
    {
      "cell_type": "markdown",
      "source": [
        "We see that the total number of cancelations are 23000 among 87000. Around 1/3rd of them have cancelled their booking.\n",
        "\n"
      ],
      "metadata": {
        "id": "7lwt75HW7fI5"
      }
    },
    {
      "cell_type": "code",
      "source": [
        "#as percent:\n",
        "rel_cancel = total_cancellations / data.shape[0] * 100\n",
        "rh_rel_cancel = resort_hotel_cancelations / data.loc[data[\"Hotel\"] == \"Resort Hotel\"].shape[0] * 100\n",
        "ch_rel_cancel = city_hotel_cancelations / data.loc[data[\"Hotel\"] == \"City Hotel\"].shape[0] * 100\n",
        "\n",
        "print(f\"Total booking canceled: {total_cancellations:,} ({rel_cancel:.0f} %)\")\n",
        "print(f\"Resort hotel bookings canceled: {resort_hotel_cancelations:,} ({rh_rel_cancel:.0f} %)\")\n",
        "print(f\"City hotel booking canceled: {city_hotel_cancelations:,} ({ch_rel_cancel:.0f} %)\")"
      ],
      "metadata": {
        "id": "rmu-zMLy4VDG"
      },
      "execution_count": null,
      "outputs": []
    },
    {
      "cell_type": "markdown",
      "source": [
        "We are trying to calculate this in percentage(%) i.e the total % of booking canceled was around 23000 i.e around **27%**. \n",
        "\n",
        "In resort hotel, this is around **24%**  and in city hotel, this is around **30%**"
      ],
      "metadata": {
        "id": "R59TtDYTz2ft"
      }
    },
    {
      "cell_type": "markdown",
      "source": [
        "**Create a DataFrame with the relevant data**\n"
      ],
      "metadata": {
        "id": "xYcxv5xwAC_E"
      }
    },
    {
      "cell_type": "markdown",
      "source": [
        "We are trying to create a DataFrame with relevant data. Here, we have created"
      ],
      "metadata": {
        "id": "9QZeBMl1AOPD"
      }
    },
    {
      "cell_type": "code",
      "source": [
        "res_book_per_month = data.loc[(data[\"Hotel\"] == \"Resort Hotel\")].groupby(\"Arrival date month\")[\"Hotel\"].count()\n",
        "res_cancel_per_month = data.loc[(data[\"Hotel\"] == \"Resort Hotel\")].groupby(\"Arrival date month\")[\"Cancelled\"].sum()\n",
        "\n",
        "city_book_per_month = data.loc[(data[\"Hotel\"] == \"City Hotel\")].groupby(\"Arrival date month\")[\"Hotel\"].count()\n",
        "city_cancel_per_month = data.loc[(data[\"Hotel\"] == \"City Hotel\")].groupby(\"Arrival date month\")[\"Cancelled\"].sum()\n",
        "\n",
        "res_cancel_data= pd.DataFrame({\"Hotel\": \"Resort Hotel\",\"Month\": list(res_book_per_month.index),\n",
        "                               \"Bookings\": list(res_book_per_month.values),\n",
        "                               \"Cancelations\": list(res_cancel_per_month.values)})\n",
        "city_cancel_data= pd.DataFrame({\"Hotel\": \"City Hotel\",\n",
        "                               \"Month\": list(city_book_per_month.index),\n",
        "                               \"Bookings\": list(city_book_per_month.values),\n",
        "                               \"Cancelations\": list(city_cancel_per_month.values)})\n",
        "\n",
        "full_cancel_data = pd.concat([res_cancel_data, city_cancel_data], ignore_index=True)\n",
        "full_cancel_data[\"cancel_percent\"] = full_cancel_data[\"Cancelations\"] / full_cancel_data[\"Bookings\"] * 100\n",
        "\n",
        "#order by month:\n",
        "ordered_months = [\"January\", \"February\", \"March\", \"April\", \"May\", \"June\", \"July\", \"August\", \"September\", \"October\", \"November\", \"December\"]\n",
        "full_cancel_data[\"Month\"] = pd.Categorical(full_cancel_data[\"Month\"], categories= ordered_months, ordered=True)\n",
        "\n",
        "#show figure:\n",
        "plt.figure(figsize=(12, 8))\n",
        "sns.barplot(x = \"Month\", y= \"cancel_percent\", hue= \"Hotel\",\n",
        "            hue_order= [\"City Hotel\", \"Resort Hotel\"], data=full_cancel_data)\n",
        "plt.title(\"Cancelations per month\", fontsize=16)\n",
        "plt.xlabel(\"Month\", fontsize=16)\n",
        "plt.xticks(rotation=45)\n",
        "plt.ylabel(\"Cancelations [%]\", fontsize=16)\n",
        "plt.legend(loc=\"upper right\")\n",
        "plt.show()\n",
        "  "
      ],
      "metadata": {
        "id": "ND8rWk927uRz"
      },
      "execution_count": null,
      "outputs": []
    },
    {
      "cell_type": "code",
      "source": [
        "cancel_corr = data.corr()[\"Cancelled\"]\n",
        "cancel_corr.abs().sort_values(ascending=False)[1:]"
      ],
      "metadata": {
        "id": "0jkdz9TBWwOm"
      },
      "execution_count": null,
      "outputs": []
    },
    {
      "cell_type": "markdown",
      "source": [
        "We see that Lead time,Required car parking spaces,Average daily rate, the Total of special requests and Booking changes are the most important factors for cancellation of booking."
      ],
      "metadata": {
        "id": "897zo2VHXLf-"
      }
    },
    {
      "cell_type": "code",
      "source": [
        "data.groupby(\"Cancelled\")[\"Reservation status\"].value_counts()"
      ],
      "metadata": {
        "id": "pkUgdTaJXuaV"
      },
      "execution_count": null,
      "outputs": []
    },
    {
      "cell_type": "code",
      "source": [
        "lead_cancel_data = data.groupby(\"Lead time\")[\"Cancelled\"].describe()\n",
        "lead_cancel_data_10 = lead_cancel_data.loc[lead_cancel_data[\"count\"] >=10]\n",
        "plt.figure(figsize=(12,8))\n",
        "sns.regplot(x=lead_cancel_data_10.index, y=lead_cancel_data_10[\"mean\"].values *100)\n",
        "plt.title(\"Effect of lead time on cancellation\", fontsize=16)\n",
        "plt.xlabel(\"Lead time\", fontsize=16)\n",
        "plt.ylabel(\"Cancellation [%]\", fontsize=16)\n",
        "#plt.xlin(0,365)\n",
        "plt.show()"
      ],
      "metadata": {
        "id": "rkhfTmc7hu3e"
      },
      "execution_count": null,
      "outputs": []
    }
  ]
}